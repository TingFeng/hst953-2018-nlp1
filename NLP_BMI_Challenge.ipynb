{
  "nbformat": 4,
  "nbformat_minor": 0,
  "metadata": {
    "colab": {
      "name": "NLP_BMI_Challenge.ipynb",
      "version": "0.3.2",
      "provenance": [],
      "collapsed_sections": []
    },
    "kernelspec": {
      "name": "python3",
      "display_name": "Python 3"
    }
  },
  "cells": [
    {
      "metadata": {
        "id": "0atxfhJGQ3Be",
        "colab_type": "text"
      },
      "cell_type": "markdown",
      "source": [
        "#Natural Language Processing Workshop<br>\n",
        "##3.0 - Identifying Obesity Using Notes: Optimization Challenge!\n",
        "###Names<br>10/12/2018\n",
        "##Objectives\n",
        "###Participants should be able to:\n",
        "* Identify key words used to describe obesity\n",
        "* Determine improvement in performance with *****\n"
      ]
    },
    {
      "metadata": {
        "id": "7W5EYtj5SDll",
        "colab_type": "code",
        "colab": {}
      },
      "cell_type": "code",
      "source": [
        "# Import libraries\n",
        "import numpy as np\n",
        "import os\n",
        "import pandas as pd\n",
        "import matplotlib.pyplot as plt\n",
        "import matplotlib.patches as patches\n",
        "import matplotlib.path as path\n",
        "import tensorflow as tf\n",
        "import re\n",
        "import seaborn as sns\n",
        "\n",
        "# Below imports are used to print out pretty pandas dataframes\n",
        "from IPython.display import display, HTML\n",
        "\n",
        "# Imports for accessing Datathon data using Google BigQuery.\n",
        "from google.colab import auth\n",
        "from google.cloud import bigquery\n",
        "from google.colab import files"
      ],
      "execution_count": 0,
      "outputs": []
    },
    {
      "metadata": {
        "id": "6udP773Mg-l7",
        "colab_type": "text"
      },
      "cell_type": "markdown",
      "source": [
        ""
      ]
    },
    {
      "metadata": {
        "id": "80WtAL-LTYbb",
        "colab_type": "code",
        "colab": {}
      },
      "cell_type": "code",
      "source": [
        "auth.authenticate_user()"
      ],
      "execution_count": 0,
      "outputs": []
    },
    {
      "metadata": {
        "id": "xwT2c3oETeL-",
        "colab_type": "code",
        "colab": {}
      },
      "cell_type": "code",
      "source": [
        "project_id='hst-953-2018'\n",
        "os.environ[\"GOOGLE_CLOUD_PROJECT\"]=project_id\n",
        "# Read data from BigQuery into pandas dataframes.\n",
        "def run_query(query):\n",
        "  return pd.io.gbq.read_gbq(query, project_id=project_id, verbose=False, configuration={'query':{'useLegacySql': False}})"
      ],
      "execution_count": 0,
      "outputs": []
    },
    {
      "metadata": {
        "id": "-fNltF-vYsgo",
        "colab_type": "text"
      },
      "cell_type": "markdown",
      "source": [
        "\n",
        "\n",
        "**Extra Section that should go at the beginning - just to introduce students to the different types of free text notes.**"
      ]
    },
    {
      "metadata": {
        "id": "jt4czqXjY1mR",
        "colab_type": "code",
        "colab": {
          "base_uri": "https://localhost:8080/",
          "height": 312
        },
        "outputId": "e2e4ed83-e325-4a90-a3ab-4de36b44a9df"
      },
      "cell_type": "code",
      "source": [
        "df_noteevents_categories = run_query('''\n",
        "SELECT CATEGORY \n",
        "FROM `physionet-data.mimiciii_notes.noteevents`\n",
        "GROUP BY CATEGORY\n",
        "''')\n",
        "\n",
        "#Of note, some categories have spaces at the end, like 'Physician '\n",
        "list_categories = df_noteevents_categories[\"CATEGORY\"].tolist()\n",
        "\n",
        "print(list_categories)\n",
        "print(df_noteevents_categories)\n",
        "\n"
      ],
      "execution_count": 14,
      "outputs": [
        {
          "output_type": "stream",
          "text": [
            "['Physician ', 'Radiology', 'Discharge summary', 'Echo', 'ECG', 'Nursing/other', 'General', 'Rehab Services', 'Pharmacy', 'Case Management ', 'Respiratory ', 'Nutrition', 'Nursing', 'Consult', 'Social Work']\n",
            "             CATEGORY\n",
            "0          Physician \n",
            "1           Radiology\n",
            "2   Discharge summary\n",
            "3                Echo\n",
            "4                 ECG\n",
            "5       Nursing/other\n",
            "6             General\n",
            "7      Rehab Services\n",
            "8            Pharmacy\n",
            "9    Case Management \n",
            "10       Respiratory \n",
            "11          Nutrition\n",
            "12            Nursing\n",
            "13            Consult\n",
            "14        Social Work\n"
          ],
          "name": "stdout"
        }
      ]
    },
    {
      "metadata": {
        "id": "hFOUaRjITvhG",
        "colab_type": "code",
        "colab": {}
      },
      "cell_type": "code",
      "source": [
        "#This query pulls information from the derived table, height_weight.  It only uses first_height and first_weight if available.\n",
        "#Patients with BMIs that are greater than or equal to 30 are categorized as obese (obese_1 = 1) which is the official definition of obese\n",
        "#Obese Class 1 = 30-34.99\n",
        "#Obese Class 2 = 35-39.99\n",
        "#Obese Class 3 = >=40\n",
        "df_bmi = run_query('''\n",
        "With tt AS(\n",
        "SELECT hw.icustay_id, subject_id, cast(hw.height_first as float64) as height_first, cast(hw.weight_first as float64) as weight_first\n",
        ", (cast(hw.weight_first as float64))/(cast(hw.height_first as float64)/100* cast(hw.height_first as float64)/100) AS BMI\n",
        "FROM `physionet-data.mimiciii_derived.heightweight` as hw\n",
        "WHERE height_first is not null and weight_first is not null\n",
        ")\n",
        "SELECT *\n",
        ", CASE WHEN (tt.bmi >= 30) THEN 1 ELSE -1 END as obese_1\n",
        "FROM tt\n",
        "WHERE BMI >=18.5 and BMI <= 50 and height_first >=120 AND height_first<=213 AND weight_first >40\n",
        "ORDER BY tt.bmi\n",
        "''')"
      ],
      "execution_count": 0,
      "outputs": []
    },
    {
      "metadata": {
        "id": "MDnjR1MBlvHW",
        "colab_type": "code",
        "colab": {
          "base_uri": "https://localhost:8080/",
          "height": 1094
        },
        "outputId": "e4027457-b7e1-4a4f-d62d-09c60ceb4d01"
      },
      "cell_type": "code",
      "source": [
        "print(df_bmi[\"BMI\"])"
      ],
      "execution_count": 57,
      "outputs": [
        {
          "output_type": "stream",
          "text": [
            "0        18.503251\n",
            "1        18.503251\n",
            "2        18.505139\n",
            "3        18.507500\n",
            "4        18.513926\n",
            "5        18.513926\n",
            "6        18.516311\n",
            "7        18.523450\n",
            "8        18.523450\n",
            "9        18.526664\n",
            "10       18.540030\n",
            "11       18.542518\n",
            "12       18.542518\n",
            "13       18.543147\n",
            "14       18.548424\n",
            "15       18.550050\n",
            "16       18.557063\n",
            "17       18.557063\n",
            "18       18.557063\n",
            "19       18.557063\n",
            "20       18.570539\n",
            "21       18.570539\n",
            "22       18.571749\n",
            "23       18.576558\n",
            "24       18.576558\n",
            "25       18.580359\n",
            "26       18.589619\n",
            "27       18.591426\n",
            "28       18.600037\n",
            "29       18.604060\n",
            "           ...    \n",
            "12276    48.820116\n",
            "12277    48.829683\n",
            "12278    48.834376\n",
            "12279    49.030710\n",
            "12280    49.030710\n",
            "12281    49.035592\n",
            "12282    49.141534\n",
            "12283    49.153552\n",
            "12284    49.153552\n",
            "12285    49.159862\n",
            "12286    49.159862\n",
            "12287    49.184748\n",
            "12288    49.194434\n",
            "12289    49.194766\n",
            "12290    49.298710\n",
            "12291    49.334589\n",
            "12292    49.409701\n",
            "12293    49.485501\n",
            "12294    49.510263\n",
            "12295    49.567658\n",
            "12296    49.661901\n",
            "12297    49.756170\n",
            "12298    49.758164\n",
            "12299    49.758164\n",
            "12300    49.790699\n",
            "12301    49.816445\n",
            "12302    49.825228\n",
            "12303    49.870827\n",
            "12304    49.913535\n",
            "12305    49.951272\n",
            "Name: BMI, Length: 12306, dtype: float64\n"
          ],
          "name": "stdout"
        }
      ]
    },
    {
      "metadata": {
        "id": "HQghVHLC8aF2",
        "colab_type": "code",
        "colab": {
          "base_uri": "https://localhost:8080/",
          "height": 416
        },
        "outputId": "b71dfb65-d4c9-4aea-c708-4622c316b22d"
      },
      "cell_type": "code",
      "source": [
        "df_plot = df_bmi[\"BMI\"]\n",
        "\n",
        "\n",
        "#plot(df_plot)\n",
        "plt.hist(df_plot, bins=range(18, 52, 2))"
      ],
      "execution_count": 58,
      "outputs": [
        {
          "output_type": "execute_result",
          "data": {
            "text/plain": [
              "(array([ 422., 1021., 1631., 1930., 1799., 1593., 1180.,  824.,  632.,\n",
              "         384.,  283.,  216.,  161.,  110.,   65.,   55.]),\n",
              " array([18, 20, 22, 24, 26, 28, 30, 32, 34, 36, 38, 40, 42, 44, 46, 48, 50]),\n",
              " <a list of 16 Patch objects>)"
            ]
          },
          "metadata": {
            "tags": []
          },
          "execution_count": 58
        },
        {
          "output_type": "display_data",
          "data": {
            "image/png": "[encoded data removed]",
            "text/plain": [
              "<matplotlib.figure.Figure at 0x7f0d06bc1fd0>"
            ]
          },
          "metadata": {
            "tags": []
          }
        }
      ]
    }
  ]
}