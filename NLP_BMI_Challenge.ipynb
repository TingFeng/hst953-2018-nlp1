{
  "nbformat": 4,
  "nbformat_minor": 0,
  "metadata": {
    "colab": {
      "name": "NLP_BMI_Challenge.ipynb",
      "version": "0.3.2",
      "provenance": [],
      "collapsed_sections": []
    },
    "kernelspec": {
      "name": "python3",
      "display_name": "Python 3"
    }
  },
  "cells": [
    {
      "metadata": {
        "id": "0atxfhJGQ3Be",
        "colab_type": "text"
      },
      "cell_type": "markdown",
      "source": [
        "#Natural Language Processing Workshop<br>\n",
        "##3.0 - Identifying Obesity Using Notes: Optimization Challenge!\n",
        "###Names<br>10/12/2018\n",
        "##Objectives\n",
        "###Participants should be able to:\n",
        "* Identify key words used to describe obesity\n",
        "* Determine improvement in performance with *****\n"
      ]
    },
    {
      "metadata": {
        "id": "7W5EYtj5SDll",
        "colab_type": "code",
        "colab": {}
      },
      "cell_type": "code",
      "source": [
        "# Import libraries\n",
        "import numpy as np\n",
        "import os\n",
        "import pandas as pd\n",
        "import matplotlib.pyplot as plt\n",
        "import matplotlib.patches as patches\n",
        "import matplotlib.path as path\n",
        "import tensorflow as tf\n",
        "import re\n",
        "import seaborn as sns\n",
        "\n",
        "# Below imports are used to print out pretty pandas dataframes\n",
        "from IPython.display import display, HTML\n",
        "\n",
        "# Imports for accessing Datathon data using Google BigQuery.\n",
        "from google.colab import auth\n",
        "from google.cloud import bigquery\n",
        "from google.colab import files"
      ],
      "execution_count": 0,
      "outputs": []
    },
    {
      "metadata": {
        "id": "6udP773Mg-l7",
        "colab_type": "text"
      },
      "cell_type": "markdown",
      "source": [
        ""
      ]
    },
    {
      "metadata": {
        "id": "80WtAL-LTYbb",
        "colab_type": "code",
        "colab": {}
      },
      "cell_type": "code",
      "source": [
        "auth.authenticate_user()"
      ],
      "execution_count": 0,
      "outputs": []
    },
    {
      "metadata": {
        "id": "xwT2c3oETeL-",
        "colab_type": "code",
        "colab": {}
      },
      "cell_type": "code",
      "source": [
        "project_id='hst-953-2018'\n",
        "os.environ[\"GOOGLE_CLOUD_PROJECT\"]=project_id\n",
        "# Read data from BigQuery into pandas dataframes.\n",
        "def run_query(query):\n",
        "  return pd.io.gbq.read_gbq(query, project_id=project_id, verbose=False, configuration={'query':{'useLegacySql': False}})"
      ],
      "execution_count": 0,
      "outputs": []
    },
    {
      "metadata": {
        "id": "-fNltF-vYsgo",
        "colab_type": "text"
      },
      "cell_type": "markdown",
      "source": [
        "\n",
        "\n",
        "**Extra Section that should go at the beginning - just to introduce students to the different types of free text notes.**"
      ]
    },
    {
      "metadata": {
        "id": "jt4czqXjY1mR",
        "colab_type": "code",
        "colab": {
          "base_uri": "https://localhost:8080/",
          "height": 312
        },
        "outputId": "e2e4ed83-e325-4a90-a3ab-4de36b44a9df"
      },
      "cell_type": "code",
      "source": [
        "df_noteevents_categories = run_query('''\n",
        "SELECT CATEGORY \n",
        "FROM `physionet-data.mimiciii_notes.noteevents`\n",
        "GROUP BY CATEGORY\n",
        "''')\n",
        "\n",
        "#Of note, some categories have spaces at the end, like 'Physician '\n",
        "list_categories = df_noteevents_categories[\"CATEGORY\"].tolist()\n",
        "\n",
        "print(list_categories)\n",
        "print(df_noteevents_categories)\n",
        "\n"
      ],
      "execution_count": 14,
      "outputs": [
        {
          "output_type": "stream",
          "text": [
            "['Physician ', 'Radiology', 'Discharge summary', 'Echo', 'ECG', 'Nursing/other', 'General', 'Rehab Services', 'Pharmacy', 'Case Management ', 'Respiratory ', 'Nutrition', 'Nursing', 'Consult', 'Social Work']\n",
            "             CATEGORY\n",
            "0          Physician \n",
            "1           Radiology\n",
            "2   Discharge summary\n",
            "3                Echo\n",
            "4                 ECG\n",
            "5       Nursing/other\n",
            "6             General\n",
            "7      Rehab Services\n",
            "8            Pharmacy\n",
            "9    Case Management \n",
            "10       Respiratory \n",
            "11          Nutrition\n",
            "12            Nursing\n",
            "13            Consult\n",
            "14        Social Work\n"
          ],
          "name": "stdout"
        }
      ]
    },
    {
      "metadata": {
        "id": "hFOUaRjITvhG",
        "colab_type": "code",
        "colab": {}
      },
      "cell_type": "code",
      "source": [
        "#This query pulls information from the derived table, height_weight.  It only uses first_height and first_weight if available.\n",
        "#Patients with BMIs that are greater than or equal to 30 are categorized as obese (obese_1 = 1) which is the official definition of obese\n",
        "#Obese Class 1 = 30-34.99\n",
        "#Obese Class 2 = 35-39.99\n",
        "#Obese Class 3 = >=40\n",
        "df_noteevents_categories = run_query('''\n",
        "With tt AS(\n",
        "SELECT hw.icustay_id, subject_id, cast(hw.height_first as float64) as height_first, cast(hw.weight_first as float64) as weight_first\n",
        ", (cast(hw.weight_first as float64))/(cast(hw.height_first as float64)/100* cast(hw.height_first as float64)/100) AS BMI\n",
        "FROM `physionet-data.mimiciii_derived.heightweight` as hw\n",
        "WHERE height_first is not null and weight_first is not null\n",
        ")\n",
        "SELECT *\n",
        ", CASE WHEN (tt.bmi >= 30) THEN 1 ELSE -1 END as obese_1\n",
        "FROM tt\n",
        "WHERE BMI >=18.5 and BMI <= 50 and height_first >=120 AND height_first<=213 AND weight_first >40\n",
        "ORDER BY tt.bmi\n",
        "''')"
      ],
      "execution_count": 0,
      "outputs": []
    },
    {
      "metadata": {
        "id": "MDnjR1MBlvHW",
        "colab_type": "code",
        "colab": {
          "base_uri": "https://localhost:8080/",
          "height": 206
        },
        "outputId": "ec84909e-f1c9-4ef9-9472-4f4bc768cdf3"
      },
      "cell_type": "code",
      "source": [
        "df_noteevents_categories.head()"
      ],
      "execution_count": 45,
      "outputs": [
        {
          "output_type": "execute_result",
          "data": {
            "text/html": [
              "<div>\n",
              "<style scoped>\n",
              "    .dataframe tbody tr th:only-of-type {\n",
              "        vertical-align: middle;\n",
              "    }\n",
              "\n",
              "    .dataframe tbody tr th {\n",
              "        vertical-align: top;\n",
              "    }\n",
              "\n",
              "    .dataframe thead th {\n",
              "        text-align: right;\n",
              "    }\n",
              "</style>\n",
              "<table border=\"1\" class=\"dataframe\">\n",
              "  <thead>\n",
              "    <tr style=\"text-align: right;\">\n",
              "      <th></th>\n",
              "      <th>icustay_id</th>\n",
              "      <th>subject_id</th>\n",
              "      <th>height_first</th>\n",
              "      <th>weight_first</th>\n",
              "      <th>BMI</th>\n",
              "      <th>obese_1</th>\n",
              "    </tr>\n",
              "  </thead>\n",
              "  <tbody>\n",
              "    <tr>\n",
              "      <th>0</th>\n",
              "      <td>229084</td>\n",
              "      <td>1394</td>\n",
              "      <td>167.64</td>\n",
              "      <td>52.0</td>\n",
              "      <td>18.503251</td>\n",
              "      <td>-1</td>\n",
              "    </tr>\n",
              "    <tr>\n",
              "      <th>1</th>\n",
              "      <td>232707</td>\n",
              "      <td>10732</td>\n",
              "      <td>167.64</td>\n",
              "      <td>52.0</td>\n",
              "      <td>18.503251</td>\n",
              "      <td>-1</td>\n",
              "    </tr>\n",
              "    <tr>\n",
              "      <th>2</th>\n",
              "      <td>238074</td>\n",
              "      <td>24283</td>\n",
              "      <td>177.80</td>\n",
              "      <td>58.5</td>\n",
              "      <td>18.505139</td>\n",
              "      <td>-1</td>\n",
              "    </tr>\n",
              "    <tr>\n",
              "      <th>3</th>\n",
              "      <td>290867</td>\n",
              "      <td>26277</td>\n",
              "      <td>170.18</td>\n",
              "      <td>53.6</td>\n",
              "      <td>18.507500</td>\n",
              "      <td>-1</td>\n",
              "    </tr>\n",
              "    <tr>\n",
              "      <th>4</th>\n",
              "      <td>295402</td>\n",
              "      <td>21970</td>\n",
              "      <td>152.40</td>\n",
              "      <td>43.0</td>\n",
              "      <td>18.513926</td>\n",
              "      <td>-1</td>\n",
              "    </tr>\n",
              "  </tbody>\n",
              "</table>\n",
              "</div>"
            ],
            "text/plain": [
              "  icustay_id  subject_id  height_first  weight_first        BMI  obese_1\n",
              "0     229084        1394        167.64          52.0  18.503251       -1\n",
              "1     232707       10732        167.64          52.0  18.503251       -1\n",
              "2     238074       24283        177.80          58.5  18.505139       -1\n",
              "3     290867       26277        170.18          53.6  18.507500       -1\n",
              "4     295402       21970        152.40          43.0  18.513926       -1"
            ]
          },
          "metadata": {
            "tags": []
          },
          "execution_count": 45
        }
      ]
    }
  ]
}