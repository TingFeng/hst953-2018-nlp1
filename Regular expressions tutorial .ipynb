{
  "nbformat": 4,
  "nbformat_minor": 0,
  "metadata": {
    "colab": {
      "name": "Regular expressions tutorial .ipynb",
      "version": "0.3.2",
      "provenance": [],
      "collapsed_sections": []
    },
    "kernelspec": {
      "name": "python3",
      "display_name": "Python 3"
    }
  },
  "cells": [
    {
      "metadata": {
        "id": "-sfcA9tSUNeu",
        "colab_type": "text"
      },
      "cell_type": "markdown",
      "source": [
        "# Extracting values from Echo reports"
      ]
    },
    {
      "metadata": {
        "id": "kgGFVdVtZT7-",
        "colab_type": "text"
      },
      "cell_type": "markdown",
      "source": [
        "The cell below imports the necessaary libraries so that our python notebook can talk to the MIMIC database using Google's bigquery library and pull the notes"
      ]
    },
    {
      "metadata": {
        "id": "IR0nQQOxULq9",
        "colab_type": "code",
        "colab": {}
      },
      "cell_type": "code",
      "source": [
        "import os\n",
        "import pandas as pd\n",
        "\n",
        "from google.colab import auth\n",
        "from google.cloud import bigquery\n",
        "from google.colab import files"
      ],
      "execution_count": 0,
      "outputs": []
    },
    {
      "metadata": {
        "id": "LpazuyM0UkJY",
        "colab_type": "text"
      },
      "cell_type": "markdown",
      "source": [
        "The line of code below ensures you are an authenticated user accessing the MIMIC database"
      ]
    },
    {
      "metadata": {
        "id": "woVFB6X7J0cn",
        "colab_type": "code",
        "colab": {}
      },
      "cell_type": "code",
      "source": [
        "auth.authenticate_user() #This will allow you to authenticate access to BigQuery"
      ],
      "execution_count": 0,
      "outputs": []
    },
    {
      "metadata": {
        "id": "tp3E1gCKUxA2",
        "colab_type": "text"
      },
      "cell_type": "markdown",
      "source": [
        "This is a method that executes a desired SQL query on the database"
      ]
    },
    {
      "metadata": {
        "id": "fyWuYHqMIjxE",
        "colab_type": "code",
        "colab": {}
      },
      "cell_type": "code",
      "source": [
        "project_id='hst-953-2018'\n",
        "os.environ[\"GOOGLE_CLOUD_PROJECT\"]=project_id\n",
        "# Read data from BigQuery into pandas dataframes.\n",
        "def run_query(query):\n",
        "  return pd.io.gbq.read_gbq(query, project_id=project_id, verbose=False, configuration={'query':{'useLegacySql': False}})"
      ],
      "execution_count": 0,
      "outputs": []
    },
    {
      "metadata": {
        "id": "NGDh5BToVSbp",
        "colab_type": "text"
      },
      "cell_type": "markdown",
      "source": [
        "This is the actual SQL query. Here, we extracting the TEXT column from the first ten rows in the NOTEEVENTS table."
      ]
    },
    {
      "metadata": {
        "id": "R5y8n88sI2IQ",
        "colab_type": "code",
        "colab": {}
      },
      "cell_type": "code",
      "source": [
        "first_ten_echo_reports = run_query('''\n",
        "SELECT TEXT \n",
        "FROM `physionet-data.mimiciii_notes.noteevents`\n",
        "WHERE CATEGORY = 'Echo'\n",
        "LIMIT 10\n",
        "''')"
      ],
      "execution_count": 0,
      "outputs": []
    },
    {
      "metadata": {
        "id": "EIck0_f3VvYY",
        "colab_type": "text"
      },
      "cell_type": "markdown",
      "source": [
        "Let us examine the result of our query."
      ]
    },
    {
      "metadata": {
        "id": "0neinsdwI-FQ",
        "colab_type": "code",
        "colab": {
          "base_uri": "https://localhost:8080/",
          "height": 204
        },
        "outputId": "7bfb1939-c663-4071-f417-1bcba296a7fa"
      },
      "cell_type": "code",
      "source": [
        "print(first_ten_echo_reports[\"TEXT\"])"
      ],
      "execution_count": 0,
      "outputs": [
        {
          "output_type": "stream",
          "text": [
            "0    PATIENT/TEST INFORMATION:\\nIndication: Coronar...\n",
            "1    PATIENT/TEST INFORMATION:\\nIndication: Endocar...\n",
            "2    PATIENT/TEST INFORMATION:\\nIndication: Aortic ...\n",
            "3    PATIENT/TEST INFORMATION:\\nIndication: Congest...\n",
            "4    PATIENT/TEST INFORMATION:\\nIndication: Shortne...\n",
            "5    PATIENT/TEST INFORMATION:\\nIndication: Pre-Cor...\n",
            "6    PATIENT/TEST INFORMATION:\\nIndication: Congest...\n",
            "7    PATIENT/TEST INFORMATION:\\nIndication: rule-ou...\n",
            "8    PATIENT/TEST INFORMATION:\\nIndication: LV func...\n",
            "9    PATIENT/TEST INFORMATION:\\nIndication: Congest...\n",
            "Name: TEXT, dtype: object\n"
          ],
          "name": "stdout"
        }
      ]
    },
    {
      "metadata": {
        "id": "R_fUQZkwVzL4",
        "colab_type": "text"
      },
      "cell_type": "markdown",
      "source": [
        "Let us dig deeper and view the full content of the first report"
      ]
    },
    {
      "metadata": {
        "id": "TqaXivbLKPa_",
        "colab_type": "code",
        "colab": {
          "base_uri": "https://localhost:8080/",
          "height": 1309
        },
        "outputId": "c405d5cd-03f2-4d48-e185-da50d580829b"
      },
      "cell_type": "code",
      "source": [
        "report = first_ten_echo_reports[\"TEXT\"][0]\n",
        "print(report)"
      ],
      "execution_count": 0,
      "outputs": [
        {
          "output_type": "stream",
          "text": [
            "PATIENT/TEST INFORMATION:\n",
            "Indication: Coronary artery disease. Left ventricular function. Patient on IABP 1:1.\n",
            "Height: (in) 68\n",
            "Weight (lb): 178\n",
            "BSA (m2): 1.95 m2\n",
            "BP (mm Hg): 112/61\n",
            "HR (bpm): 85\n",
            "Status: Inpatient\n",
            "Date/Time: [**2133-6-15**] at 10:20\n",
            "Test: Portable TTE (Complete)\n",
            "Doppler: Full Doppler and color Doppler\n",
            "Contrast: None\n",
            "Technical Quality: Adequate\n",
            "\n",
            "\n",
            "INTERPRETATION:\n",
            "\n",
            "Findings:\n",
            "\n",
            "This study was compared to the prior study of [**2130-10-4**].\n",
            "\n",
            "\n",
            "LEFT ATRIUM: Normal LA size.\n",
            "\n",
            "RIGHT ATRIUM/INTERATRIAL SEPTUM: Mildly dilated RA.\n",
            "\n",
            "LEFT VENTRICLE: Mild symmetric LVH. Moderately dilated LV cavity. Apical LV\n",
            "aneurysm. Severe global LV hypokinesis. TVI E/e' >15, suggesting PCWP>18mmHg.\n",
            "No resting LVOT gradient. No LV mass/thrombus.\n",
            "\n",
            "RIGHT VENTRICLE: Normal RV chamber size and free wall motion.\n",
            "\n",
            "AORTA: Focal calcifications in aortic root. Moderately dilated ascending\n",
            "aorta.\n",
            "\n",
            "AORTIC VALVE: Mildly thickened aortic valve leaflets (3). No AS. No AS.\n",
            "\n",
            "MITRAL VALVE: Mildly thickened mitral valve leaflets. No MVP. Calcified tips\n",
            "of papillary muscles. Mild to moderate ([**1-26**]+) MR.\n",
            "\n",
            "TRICUSPID VALVE: Normal tricuspid valve leaflets. Mild [1+] TR. Mild PA\n",
            "systolic hypertension.\n",
            "\n",
            "PULMONIC VALVE/PULMONARY ARTERY: Normal pulmonic valve leaflets with\n",
            "physiologic PR.\n",
            "\n",
            "PERICARDIUM: No pericardial effusion.\n",
            "\n",
            "GENERAL COMMENTS: Suboptimal image quality as the patient was difficult to\n",
            "position. Based on [**2124**] AHA endocarditis prophylaxis recommendations, the echo\n",
            "findings indicate a moderate risk (prophylaxis recommended). Clinical\n",
            "decisions regarding the need for prophylaxis should be based on clinical and\n",
            "echocardiographic data.\n",
            "\n",
            "Conclusions:\n",
            "The left atrium is normal in size. There is mild symmetric left ventricular\n",
            "hypertrophy with moderate cavity dilation and severe global hypokinesis. The\n",
            "basal inferior and inferolateral walls contract best with the more distal left\n",
            "ventricular segments near akinetic. There is an apical left ventricular\n",
            "aneurysm. No intraventricular thrombus is identified. Tissue velocity imaging\n",
            "E/e' is elevated (>15) suggesting increased left ventricular filling pressure\n",
            "(PCWP>18mmHg). Right ventricular chamber size and free wall motion are normal.\n",
            "The ascending aorta is moderately dilated. The aortic valve leaflets (3) are\n",
            "mildly thickened but with good leaflet excursion and no aortic regurgitation.\n",
            "There is no aortic valve stenosis. The mitral valve leaflets are mildly\n",
            "thickened. Mild to moderate ([**1-26**]+) mitral regurgitation is seen. There is at\n",
            "least mild pulmonary artery systolic hypertension. There is no pericardial\n",
            "effusion.\n",
            "\n",
            "Compared with the findings of the prior report (images reviewed) of [**2130-10-4**]\n",
            ", the left ventricular findings are new and c/w multivessel CAD. Mild-moderate\n",
            "mitral regurgitation and pulmonary artery systolic hypertension are now\n",
            "present.\n",
            "\n",
            "\n",
            "\n"
          ],
          "name": "stdout"
        }
      ]
    },
    {
      "metadata": {
        "id": "HRd_CVNIWFk_",
        "colab_type": "text"
      },
      "cell_type": "markdown",
      "source": [
        "We are going to extract the heart rate from this note using regular expressions a powerful tool that allows us to do simple text analytics.\n",
        "Christina to add regex101 example here from her [notebook](https://github.com/christinium/JapanRegEx/blob/master/1.1%20-%20RegEx%20-%20Regular%20Expressions.ipynb)"
      ]
    },
    {
      "metadata": {
        "id": "ZfuBa5zmWxyq",
        "colab_type": "text"
      },
      "cell_type": "markdown",
      "source": [
        "To use regular expressions in python we import the library "
      ]
    },
    {
      "metadata": {
        "id": "BD4XxiTJKLjt",
        "colab_type": "code",
        "colab": {}
      },
      "cell_type": "code",
      "source": [
        "import re"
      ],
      "execution_count": 0,
      "outputs": []
    },
    {
      "metadata": {
        "id": "6JPvo38lW6br",
        "colab_type": "text"
      },
      "cell_type": "markdown",
      "source": [
        "Let us see how we can extract the line containing heart rate from the report"
      ]
    },
    {
      "metadata": {
        "id": "b6_7iDmqLvoq",
        "colab_type": "code",
        "colab": {
          "base_uri": "https://localhost:8080/",
          "height": 34
        },
        "outputId": "a6c35ed0-3e80-4f05-ab48-27b891a809d3"
      },
      "cell_type": "code",
      "source": [
        "regular_expression_query = r'HR.*'\n",
        "hit = re.search(regular_expression_query,report)\n",
        "if hit:\n",
        "  print(hit.group())\n",
        "else:\n",
        "  print('No hit for the regular expression')"
      ],
      "execution_count": 0,
      "outputs": [
        {
          "output_type": "stream",
          "text": [
            "HR (bpm): 85\n"
          ],
          "name": "stdout"
        }
      ]
    },
    {
      "metadata": {
        "id": "97-MalZMXGpw",
        "colab_type": "text"
      },
      "cell_type": "markdown",
      "source": [
        "This is great. But we want to extract the value (85) from this line. Let us see how we can extract two digit numbers from the report"
      ]
    },
    {
      "metadata": {
        "id": "zklIpC25RtMb",
        "colab_type": "code",
        "colab": {
          "base_uri": "https://localhost:8080/",
          "height": 34
        },
        "outputId": "d5aa5ef9-d542-447f-d84e-f056f8adb2f0"
      },
      "cell_type": "code",
      "source": [
        "regular_expression_query = r'\\d\\d'\n",
        "hit = re.search(regular_expression_query,report)\n",
        "if hit:\n",
        "  print(hit.group())\n",
        "else:\n",
        "  print('No hit for the regular expression')"
      ],
      "execution_count": 0,
      "outputs": [
        {
          "output_type": "stream",
          "text": [
            "68\n"
          ],
          "name": "stdout"
        }
      ]
    },
    {
      "metadata": {
        "id": "NAwzEPaJXd4t",
        "colab_type": "text"
      },
      "cell_type": "markdown",
      "source": [
        "Regular expressions are **greedy**. This means they match the first occurrence in the input text. Therefore, we see that we get the height using our current regular expression. Let us modify the regular expression so that we get the first two digit number following the occurence of **HR** in the report."
      ]
    },
    {
      "metadata": {
        "id": "sqSU0tvGSPdO",
        "colab_type": "code",
        "colab": {
          "base_uri": "https://localhost:8080/",
          "height": 68
        },
        "outputId": "060e1cbd-329f-4fd2-b791-d2cf0f9f491d"
      },
      "cell_type": "code",
      "source": [
        "regular_expression_query = r'(HR).*(\\d\\d)'\n",
        "hit = re.search(regular_expression_query,report)\n",
        "if hit:\n",
        "  print(hit.group(0))\n",
        "  print(hit.group(1))\n",
        "  print(hit.group(2))\n",
        "else:\n",
        "  print('No hit for the regular expression')"
      ],
      "execution_count": 0,
      "outputs": [
        {
          "output_type": "stream",
          "text": [
            "HR (bpm): 85\n",
            "HR\n",
            "85\n"
          ],
          "name": "stdout"
        }
      ]
    },
    {
      "metadata": {
        "id": "J5LUkH_MYL17",
        "colab_type": "text"
      },
      "cell_type": "markdown",
      "source": [
        "Great! This is exactly what we wanted. Now let us try to run our regular expression on each of the first ten reports and print the result."
      ]
    },
    {
      "metadata": {
        "id": "AwfEpn5VTBX8",
        "colab_type": "code",
        "colab": {
          "base_uri": "https://localhost:8080/",
          "height": 187
        },
        "outputId": "44113a30-6e6a-455a-a4b3-3efd73eaa46e"
      },
      "cell_type": "code",
      "source": [
        "for i in range(10):\n",
        "  report = first_ten_echo_reports[\"TEXT\"][i]\n",
        "  regular_expression_query = r'(HR).*(\\d\\d)'\n",
        "  hit = re.search(regular_expression_query,report)\n",
        "  if hit:    \n",
        "    print('{} :: {}'.format(i,hit.group(2)))\n",
        "  else:\n",
        "    print('{} :: No hit for the regular expression')\n",
        "  "
      ],
      "execution_count": 0,
      "outputs": [
        {
          "output_type": "stream",
          "text": [
            "0 :: 85\n",
            "1 :: 89\n",
            "{} :: No hit for the regular expression\n",
            "3 :: 68\n",
            "4 :: 90\n",
            "5 :: 57\n",
            "{} :: No hit for the regular expression\n",
            "7 :: 75\n",
            "8 :: 52\n",
            "9 :: 82\n"
          ],
          "name": "stdout"
        }
      ]
    },
    {
      "metadata": {
        "id": "g8twKiJbYfNN",
        "colab_type": "text"
      },
      "cell_type": "markdown",
      "source": [
        "We do not get any hits for reports 2, and 6. Let us check report 2 why this is the case"
      ]
    },
    {
      "metadata": {
        "id": "FEibHL4WTwma",
        "colab_type": "code",
        "colab": {
          "base_uri": "https://localhost:8080/",
          "height": 1020
        },
        "outputId": "b5f6c969-1ca6-42a8-c8df-d65c84ef6a53"
      },
      "cell_type": "code",
      "source": [
        "print(first_ten_echo_reports[\"TEXT\"][2])"
      ],
      "execution_count": 0,
      "outputs": [
        {
          "output_type": "stream",
          "text": [
            "PATIENT/TEST INFORMATION:\n",
            "Indication: Aortic valve disease. Coronary artery disease. Left ventricular function. Mitral valve disease.\n",
            "Height: (in) 68\n",
            "Weight (lb): 163\n",
            "BSA (m2): 1.88 m2\n",
            "BP (mm Hg): 120/70\n",
            "Status: Inpatient\n",
            "Date/Time: [**2178-5-8**] at 10:56\n",
            "Test: Portable TTE (Complete)\n",
            "Doppler: Complete pulse and color flow\n",
            "Contrast: None\n",
            "Technical Quality: Adequate\n",
            "\n",
            "\n",
            "INTERPRETATION:\n",
            "\n",
            "Findings:\n",
            "\n",
            "LEFT ATRIUM: The left atrium is normal in size.\n",
            "\n",
            "RIGHT ATRIUM/INTERATRIAL SEPTUM: The right atrium is normal in size.\n",
            "\n",
            "LEFT VENTRICLE: There is moderate symmetric left ventricular hypertrophy. The\n",
            "left ventricular cavity size is normal. Overall left ventricular systolic\n",
            "function is mildly depressed.\n",
            "\n",
            "LV WALL MOTION: The following resting regional left ventricular wall motion\n",
            "abnormalities are seen: basal anteroseptal - hypokinetic; mid anteroseptal -\n",
            "hypokinetic; basal inferolateral - hypokinetic; septal apex - hypokinetic;\n",
            "apex - hypokinetic;\n",
            "\n",
            "RIGHT VENTRICLE: Right ventricular chamber size and free wall motion are\n",
            "normal.\n",
            "\n",
            "AORTA: The aortic root is normal in diameter.\n",
            "\n",
            "AORTIC VALVE: There is moderate aortic valve stenosis.\n",
            "\n",
            "MITRAL VALVE: The mitral valve leaflets are moderately thickened. There is\n",
            "moderate mitral annular calcification. Moderate to severe (3+) mitral\n",
            "regurgitation is seen.\n",
            "\n",
            "PERICARDIUM: There is no pericardial effusion.\n",
            "\n",
            "GENERAL COMMENTS: Image quality was suboptimal.\n",
            "\n",
            "Conclusions:\n",
            "The left atrium is normal in size. There is moderate symmetric left\n",
            "ventricular hypertrophy. The left ventricular cavity size is normal. Overall\n",
            "left ventricular systolic function is mildl to moderately depressed. Resting\n",
            "regional wall motion abnormalities include apical and anteroseptal\n",
            "hypokinesis. The inferolateral wall is not well seen but susptect hypokinesis.\n",
            "Right ventricular chamber size and free wall motion are normal. There is\n",
            "moderate to severe aortic valve stenosis. The mitral valve leaflets are\n",
            "moderately thickened. Moderate to severe (3+) mitral regurgitation is seen.\n",
            "There is no pericardial effusion.\n",
            "\n",
            "\n",
            "\n"
          ],
          "name": "stdout"
        }
      ]
    },
    {
      "metadata": {
        "id": "gPheQMFgY-fH",
        "colab_type": "text"
      },
      "cell_type": "markdown",
      "source": [
        "Can you modify the notebook to print the height of the patient mentioned in the first ten echo reports?"
      ]
    }
  ]
}