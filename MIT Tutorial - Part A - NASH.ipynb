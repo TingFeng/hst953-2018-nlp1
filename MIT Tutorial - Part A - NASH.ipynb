{
  "nbformat": 4,
  "nbformat_minor": 0,
  "metadata": {
    "colab": {
      "name": "MIT Tutorial - Part A - NASH.ipynb",
      "version": "0.3.2",
      "provenance": []
    },
    "kernelspec": {
      "display_name": "Python 3",
      "language": "python",
      "name": "python3"
    }
  },
  "cells": [
    {
      "metadata": {
        "id": "SM8f3IVBmUfr",
        "colab_type": "text"
      },
      "cell_type": "markdown",
      "source": [
        "# Part A - Finding the NASH\n",
        "\n",
        "Natural Language Processing (NLP) doesn't have to be hard! For many tasks simply finding a bunch of notes that are helpful is enough. In this example we have a nice term (NASH) that is fairly unambiguous. We just want to find patients who may have NASH for some further study."
      ]
    },
    {
      "metadata": {
        "id": "vGJ3iTywmUft",
        "colab_type": "code",
        "colab": {}
      },
      "cell_type": "code",
      "source": [
        "# First off - load all the silly python libraries we are going to need\n",
        "import pandas as pd\n",
        "import numpy as np\n",
        "import random\n",
        "from IPython.core.display import display, HTML\n",
        "\n",
        "\n",
        "from google.colab import auth\n",
        "from google.cloud import bigquery\n",
        "from google.colab import files\n",
        "import os"
      ],
      "execution_count": 0,
      "outputs": []
    },
    {
      "metadata": {
        "id": "hP5ZugAwnTDj",
        "colab_type": "code",
        "colab": {}
      },
      "cell_type": "code",
      "source": [
        "auth.authenticate_user() # authenticating "
      ],
      "execution_count": 0,
      "outputs": []
    },
    {
      "metadata": {
        "id": "prpjl4yvni5v",
        "colab_type": "code",
        "colab": {}
      },
      "cell_type": "code",
      "source": [
        "project_id='hst-953-2018'\n",
        "os.environ[\"GOOGLE_CLOUD_PROJECT\"]=project_id\n",
        "# Read data from BigQuery into pandas dataframes.\n",
        "def run_query(query):\n",
        "  return pd.io.gbq.read_gbq(query, project_id=project_id, verbose=False, configuration={'query':{'useLegacySql': False}})"
      ],
      "execution_count": 0,
      "outputs": []
    },
    {
      "metadata": {
        "id": "EJWELLsCmUfx",
        "colab_type": "code",
        "colab": {}
      },
      "cell_type": "code",
      "source": [
        "# Now load the data. In general you'd load the whole set of notes but that would take\n",
        "# several minutes so for this example we're just going to use a subset\n",
        "#notes = pd.read_csv('A.csv')\n",
        "notes = run_query('''\n",
        "SELECT row_id, subject_id, hadm_id, TEXT\n",
        "FROM `physionet-data.mimiciii_notes.noteevents`\n",
        "WHERE CATEGORY = 'Discharge summary'\n",
        "''')"
      ],
      "execution_count": 0,
      "outputs": []
    },
    {
      "metadata": {
        "id": "9QnR8QrgmUf0",
        "colab_type": "code",
        "colab": {}
      },
      "cell_type": "code",
      "source": [
        "# Here is the list of terms we are going to consider \"good\"\n",
        "terms = ['NASH', 'nonalcoholic steathohepatitis']"
      ],
      "execution_count": 0,
      "outputs": []
    },
    {
      "metadata": {
        "id": "2bSHP9vbmUf3",
        "colab_type": "code",
        "colab": {
          "base_uri": "https://localhost:8080/",
          "height": 35
        },
        "outputId": "204b3c27-e3aa-481f-d396-bfadd1112206"
      },
      "cell_type": "code",
      "source": [
        "# Now scan through all of the notes. Do any of the terms appear? If so stash the note \n",
        "# id for future use\n",
        "\n",
        "matches = []\n",
        "\n",
        "for index, row in notes.iterrows():\n",
        "    if any(x in row['TEXT'] for x in terms):\n",
        "        matches.append(row['ROW_ID'])\n",
        "\n",
        "print(\"Found \" + str(len(matches)) + \" matching notes.\")"
      ],
      "execution_count": 9,
      "outputs": [
        {
          "output_type": "stream",
          "text": [
            "Found 0 matching notes.\n"
          ],
          "name": "stdout"
        }
      ]
    },
    {
      "metadata": {
        "id": "eZbZfmEJmUgA",
        "colab_type": "code",
        "colab": {},
        "outputId": "54f1d521-5971-462d-e8bf-120814f78d5c"
      },
      "cell_type": "code",
      "source": [
        "# Display a random note that matches. You can rerun this cell to get another note.\n",
        "# The fancy stuff is just highlighting the match to make it easier to find.\n",
        "\n",
        "display_id = random.choice(matches)\n",
        "text = notes[notes['ROW_ID'] == display_id].iloc[0]['TEXT']\n",
        "for term in terms:\n",
        "    text = text.replace(term, \"<font color=\\\"red\\\">\" + term + \"</font>\")\n",
        "display(HTML(\"<pre>\" + text + \"</pre>\"))\n"
      ],
      "execution_count": 0,
      "outputs": [
        {
          "output_type": "display_data",
          "data": {
            "text/html": [
              "<pre>SICU\n",
              "   HPI:\n",
              "   69M w/ hx of liver txp [**2-27**] readmitted for SOB and dyspnea on exertion.\n",
              "   Found to have bilateral infiltrates and was dyspneic on the floor, and\n",
              "   transferred to the SICU for respiratory monitoring.\n",
              "   Chief complaint:\n",
              "   respiratory stress\n",
              "   PMHx:\n",
              "   PMH: Cirrhosis. <font color=\"red\">NASH</font> vs autoimmune vs alcohol ; SBP, GIB, Eso varices,\n",
              "   PAD s/p SFA stent, HTN\n",
              "   .\n",
              "   PSH: s/p OLT [**2175-2-25**]\n",
              "   Current medications:\n",
              "   Albuterol Inhaler. Calcium Acetate. Famotidine. Fluconazole.\n",
              "   Furosemide. Heparin. Insulin. Ipratropium Bromide MDI. Levofloxacin.\n",
              "   Metoprolol Tartrate. Mycophenolate Mofetil. PredniSONE.\n",
              "   Sulfameth/Trimethoprim SS. Tacrolimus Suspension. ValGANCIclovir\n",
              "   24 Hour Events:\n",
              " ARTERIAL LINE - STOP [**2175-4-3**] 11:31 AM\n",
              "   [**4-3**] NGT placed to gravity, tube feeds at goal, bicarb discontinued,\n",
              "   free water flushes continued for hypernatremia\n",
              "   Allergies:\n",
              "   Adhesive (Miscell)\n",
              "   Skin tears and\n",
              "   Last dose of Antibiotics:\n",
              "   Vancomycin - [**2175-4-1**] 08:03 AM\n",
              "   Piperacillin/Tazobactam (Zosyn) - [**2175-4-2**] 02:08 AM\n",
              "   Infusions:\n",
              "   Other ICU medications:\n",
              "   Furosemide (Lasix) - [**2175-4-3**] 08:00 AM\n",
              "   Heparin Sodium (Prophylaxis) - [**2175-4-4**] 12:06 AM\n",
              "   Other medications:\n",
              "   Flowsheet Data as of  [**2175-4-4**] 06:59 AM\n",
              "   Vital signs\n",
              "   Hemodynamic monitoring\n",
              "   Fluid balance\n",
              "                                                                  24 hours\n",
              "                                                             Since [**77**] a.m.\n",
              "   Tmax: 36.9\n",
              "C (98.4\n",
              "   T current: 36.9\n",
              "C (98.4\n",
              "   HR: 95 (79 - 112) bpm\n",
              "   BP: 117/75(86) {106/67(76) - 139/96(98)} mmHg\n",
              "   RR: 34 (14 - 34) insp/min\n",
              "   SPO2: 96%\n",
              "   Heart rhythm: SR (Sinus Rhythm)\n",
              "   Wgt (current): 64.3 kg (admission): 71.6 kg\n",
              "   Height: 69 Inch\n",
              "   CVP: 7 (-3 - 49) mmHg\n",
              "   Total In:\n",
              "                                                                  2,881 mL\n",
              "                                                                  1,159 mL\n",
              "   PO:\n",
              "   Tube feeding:\n",
              "                                                                  1,581 mL\n",
              "                                                                    489 mL\n",
              "   IV Fluid:\n",
              "                                                                    240 mL\n",
              "                                                                    170 mL\n",
              "   Blood products:\n",
              "   Total out:\n",
              "                                                                  2,300 mL\n",
              "                                                                    326 mL\n",
              "   Urine:\n",
              "                                                                  1,350 mL\n",
              "                                                                    301 mL\n",
              "   NG:\n",
              "                                                                    800 mL\n",
              "                                                                     25 mL\n",
              "   Stool:\n",
              "                                                                    150 mL\n",
              "   Drains:\n",
              "   Balance:\n",
              "                                                                    581 mL\n",
              "                                                                    833 mL\n",
              "   Respiratory support\n",
              "   O2 Delivery Device: Nasal cannula\n",
              "   SPO2: 96%\n",
              "   ABG: ///36/\n",
              "   Physical Examination\n",
              "   General Appearance: No acute distress\n",
              "   HEENT: PERRL, EOMI\n",
              "   Cardiovascular: (Rhythm: Regular)\n",
              "   Respiratory / Chest: coarse bilaterally\n",
              "   Abdominal: Soft, Non-tender, Distended\n",
              "   Left Extremities: (Edema: Trace)\n",
              "   Right Extremities: (Edema: Trace)\n",
              "   Neurologic: (Awake / Alert / Oriented: x 3), Follows simple commands,\n",
              "   Moves all extremities\n",
              "   Labs / Radiology\n",
              "   155 K/uL\n",
              "   10.2 g/dL\n",
              "   154 mg/dL\n",
              "   1.3 mg/dL\n",
              "   36 mEq/L\n",
              "   3.1 mEq/L\n",
              "   57 mg/dL\n",
              "   102 mEq/L\n",
              "   146 mEq/L\n",
              "   29.5 %\n",
              "   5.3 K/uL\n",
              "        [image002.jpg]\n",
              "                             [**2175-3-31**]  02:03 AM\n",
              "                             [**2175-3-31**]  04:14 AM\n",
              "                             [**2175-3-31**]  04:24 AM\n",
              "                             [**2175-4-1**]  01:58 AM\n",
              "                             [**2175-4-1**]  10:07 AM\n",
              "                             [**2175-4-1**]  11:48 AM\n",
              "                             [**2175-4-2**]  01:00 AM\n",
              "                             [**2175-4-3**]  02:45 AM\n",
              "                             [**2175-4-3**]  04:38 PM\n",
              "                             [**2175-4-4**]  03:57 AM\n",
              "   WBC\n",
              "   6.0\n",
              "   5.8\n",
              "   6.5\n",
              "   6.8\n",
              "   5.3\n",
              "   Hct\n",
              "   25.4\n",
              "   24.5\n",
              "   28.8\n",
              "   31.5\n",
              "   33.1\n",
              "   29.5\n",
              "   Plt\n",
              "   191\n",
              "   192\n",
              "   189\n",
              "   180\n",
              "   155\n",
              "   Creatinine\n",
              "   2.2\n",
              "   2.3\n",
              "   2.0\n",
              "   1.6\n",
              "   1.6\n",
              "   1.3\n",
              "   TCO2\n",
              "   23\n",
              "   25\n",
              "   27\n",
              "   Glucose\n",
              "   75\n",
              "   77\n",
              "   84\n",
              "   117\n",
              "   109\n",
              "   176\n",
              "   181\n",
              "   154\n",
              "   Other labs: PT / PTT / INR:14.0/32.8/1.2, ALT / AST:[**6-2**], Alk-Phos / T\n",
              "   bili:74/0.8, Differential-Neuts:88.4 %, Lymph:7.9 %, Mono:2.2 %,\n",
              "   Eos:1.3 %, Fibrinogen:556 mg/dL, Lactic Acid:0.8 mmol/L, Albumin:2.7\n",
              "   g/dL, Ca:9.1 mg/dL, Mg:1.5 mg/dL, PO4:2.8 mg/dL\n",
              "   Assessment and Plan\n",
              "   .H/O DIARRHEA, INEFFECTIVE COPING, RENAL FAILURE, CHRONIC (CHRONIC\n",
              "   RENAL FAILURE, CRF, CHRONIC KIDNEY DISEASE), ELECTROLYTE & FLUID\n",
              "   DISORDER, OTHER, RESPIRATORY FAILURE, ACUTE (NOT ARDS/[**Doctor Last Name 2**])\n",
              "   Assessment and Plan: ASSESSMENT/PLAN: 69M s/p OLT readmitted w/ SOB and\n",
              "   transferred to SICU for dyspnea and intubated.\n",
              "   .\n",
              "   Neurologic: Neuro checks Q4 hr, no pain issues\n",
              "   Cardiovascular: stable on lopressor, EF 25%, repeat ECHO today to eval\n",
              "   ejection fraction\n",
              "   Pulmonary: stable on nasal canula\n",
              "   Gastrointestinal / Abdomen: s/p Liver transplant on antirejection (MMF,\n",
              "   tacrolimus, prednisone), NGT to gravity drainage, Post-pyloric dobhoff\n",
              "   tube\n",
              "   Nutrition: Tube feeds at goal of 70cc/h\n",
              "   Renal: on lasix 20mg daily, good UOP, creatinine 1.3 (down from 1.6),\n",
              "   magnesium and potassium repleted\n",
              "   Hematology: Hct stable at 29\n",
              "   Endocrine: RISS\n",
              "   Infectious Disease: BAL negative, C.diff negative, on Levaquin for\n",
              "   atypical pneumonia coverage\n",
              "   Lines / Tubes / Drains: Foley, NGT, Right Subclavian TLC, Dobhoff\n",
              "   Wounds: none\n",
              "   Imaging: CXR, ECHO\n",
              "   Prophylaxis: famotidine, heparin\n",
              "   Consults: Transplant, ID\n",
              "   Billing Diagnosis:  CHF, respiratory failure\n",
              "   ICU Care\n",
              "   Nutrition:\n",
              "   Replete with Fiber (Full) - [**2175-4-4**] 05:28 AM 70.[**Telephone/Fax (5) 5365**]\n",
              "   mL/hour\n",
              "   Glycemic Control:\n",
              "   Lines:\n",
              "   Multi Lumen - [**2175-3-30**] 11:23 AM\n",
              "   Prophylaxis:\n",
              "   DVT: heparin\n",
              "   Stress ulcer: famotidine\n",
              "   VAP bundle:\n",
              "   Comments:\n",
              "   Communication:  Comments:\n",
              "   Code status: Full code\n",
              "   Disposition: transfer to floor\n",
              "   Total time spent: 30 min\n",
              "</pre>"
            ],
            "text/plain": [
              "<IPython.core.display.HTML object>"
            ]
          },
          "metadata": {
            "tags": []
          }
        }
      ]
    }
  ]
}