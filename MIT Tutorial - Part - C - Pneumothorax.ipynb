{
  "nbformat": 4,
  "nbformat_minor": 0,
  "metadata": {
    "colab": {
      "name": "MIT Tutorial - Part - C - Pneumothorax.ipynb",
      "version": "0.3.2",
      "provenance": []
    },
    "kernelspec": {
      "display_name": "Python 3",
      "language": "python",
      "name": "python3"
    }
  },
  "cells": [
    {
      "metadata": {
        "id": "kahC0Hi6sX7a",
        "colab_type": "text"
      },
      "cell_type": "markdown",
      "source": [
        "# Pneumothorax example\n",
        "\n",
        "## Sentence tokenization, and spotting term + negation\n",
        "\n",
        "This example spots meantions of the \"pneumothorax\" lexicon in CXR reports and looks at whether the spotted pneumothorax mentioned was negated or not. \n",
        "\n",
        "*Joy Wu* <joy.wu@ibm.com>*, *Daniel Gruhl <dgruhl@us.ibm.com>*"
      ]
    },
    {
      "metadata": {
        "id": "IghAvd9KsX7g",
        "colab_type": "code",
        "colab": {}
      },
      "cell_type": "code",
      "source": [
        "# Required files\n",
        "import requests\n",
        "from requests.auth import HTTPBasicAuth\n",
        "import json\n",
        "import matplotlib.pyplot as plt\n",
        "import subprocess\n",
        "import tempfile\n",
        "import os\n",
        "import sys\n",
        "import pandas as pd\n",
        "import numpy as np\n",
        "import re\n",
        "import random\n",
        "from nltk.tokenize import sent_tokenize\n",
        "\n",
        "\n",
        "\n",
        "from google.colab import auth\n",
        "from google.cloud import bigquery\n",
        "from google.colab import files"
      ],
      "execution_count": 0,
      "outputs": []
    },
    {
      "metadata": {
        "id": "eItuw11H61V2",
        "colab_type": "text"
      },
      "cell_type": "markdown",
      "source": [
        "**Authenticate:** The line of code below ensures you are an authenticated user accessing the MIMIC database. You will need to rerun this each time you open the notebook."
      ]
    },
    {
      "metadata": {
        "id": "H30PHyTf2m0I",
        "colab_type": "code",
        "colab": {}
      },
      "cell_type": "code",
      "source": [
        "auth.authenticate_user() #This will allow you to authenticate access to BigQuery"
      ],
      "execution_count": 0,
      "outputs": []
    },
    {
      "metadata": {
        "id": "sRzpINxx7BJY",
        "colab_type": "text"
      },
      "cell_type": "markdown",
      "source": [
        "**Query Function: **This is a method that executes a desired SQL query on the database. If you want to run a query, you can use the function name below, which we named run_query()\n"
      ]
    },
    {
      "metadata": {
        "id": "k7Y86QrA2xDy",
        "colab_type": "code",
        "colab": {}
      },
      "cell_type": "code",
      "source": [
        "project_id='hst-953-2018'\n",
        "os.environ[\"GOOGLE_CLOUD_PROJECT\"]=project_id\n",
        "# Read data from BigQuery into pandas dataframes.\n",
        "def run_query(query):\n",
        "  return pd.io.gbq.read_gbq(query, project_id=project_id, verbose=False, configuration={'query':{'useLegacySql': False}})"
      ],
      "execution_count": 0,
      "outputs": []
    },
    {
      "metadata": {
        "id": "72KosSwasX7p",
        "colab_type": "text"
      },
      "cell_type": "markdown",
      "source": [
        "### Sentence splitting:"
      ]
    },
    {
      "metadata": {
        "id": "2oVmqJuLsX7s",
        "colab_type": "code",
        "colab": {
          "base_uri": "https://localhost:8080/",
          "height": 206
        },
        "outputId": "63250493-0a97-4605-9025-e08bb3beef0f"
      },
      "cell_type": "code",
      "source": [
        "# Read the sample CXR reports into a pandas dataframe, and print out a random report\n",
        "#CXRreports = pd.read_csv('mimic3_1000cxrReports.csv')\n",
        "#CXRreports.head()\n",
        "\n",
        "\n",
        "CXRreports = run_query('''\n",
        "SELECT * \n",
        "FROM `hst-953-2018.NLP_workshop.cxr`\n",
        "''')\n",
        "CXRreports.head()\n"
      ],
      "execution_count": 51,
      "outputs": [
        {
          "output_type": "execute_result",
          "data": {
            "text/html": [
              "<div>\n",
              "<style scoped>\n",
              "    .dataframe tbody tr th:only-of-type {\n",
              "        vertical-align: middle;\n",
              "    }\n",
              "\n",
              "    .dataframe tbody tr th {\n",
              "        vertical-align: top;\n",
              "    }\n",
              "\n",
              "    .dataframe thead th {\n",
              "        text-align: right;\n",
              "    }\n",
              "</style>\n",
              "<table border=\"1\" class=\"dataframe\">\n",
              "  <thead>\n",
              "    <tr style=\"text-align: right;\">\n",
              "      <th></th>\n",
              "      <th>subject_id</th>\n",
              "      <th>hadm_id</th>\n",
              "      <th>row_id</th>\n",
              "      <th>text</th>\n",
              "    </tr>\n",
              "  </thead>\n",
              "  <tbody>\n",
              "    <tr>\n",
              "      <th>0</th>\n",
              "      <td>256</td>\n",
              "      <td>155415</td>\n",
              "      <td>739694</td>\n",
              "      <td>[**2163-7-27**] 11:44 AM\\n CHEST (PORTABLE AP)...</td>\n",
              "    </tr>\n",
              "    <tr>\n",
              "      <th>1</th>\n",
              "      <td>13316</td>\n",
              "      <td>172688</td>\n",
              "      <td>738814</td>\n",
              "      <td>[**2104-2-19**] 4:20 PM\\n CHEST (SINGLE VIEW) ...</td>\n",
              "    </tr>\n",
              "    <tr>\n",
              "      <th>2</th>\n",
              "      <td>5637</td>\n",
              "      <td>157276</td>\n",
              "      <td>738831</td>\n",
              "      <td>[**2194-3-20**] 11:32 AM\\n CHEST (PORTABLE AP)...</td>\n",
              "    </tr>\n",
              "    <tr>\n",
              "      <th>3</th>\n",
              "      <td>22533</td>\n",
              "      <td>145806</td>\n",
              "      <td>741019</td>\n",
              "      <td>[**2182-7-16**] 2:44 PM\\n CHEST (PORTABLE AP) ...</td>\n",
              "    </tr>\n",
              "    <tr>\n",
              "      <th>4</th>\n",
              "      <td>1287</td>\n",
              "      <td>111856</td>\n",
              "      <td>740821</td>\n",
              "      <td>[**2138-7-26**] 6:49 AM\\n CHEST (PORTABLE AP) ...</td>\n",
              "    </tr>\n",
              "  </tbody>\n",
              "</table>\n",
              "</div>"
            ],
            "text/plain": [
              "   subject_id hadm_id  row_id  \\\n",
              "0         256  155415  739694   \n",
              "1       13316  172688  738814   \n",
              "2        5637  157276  738831   \n",
              "3       22533  145806  741019   \n",
              "4        1287  111856  740821   \n",
              "\n",
              "                                                text  \n",
              "0  [**2163-7-27**] 11:44 AM\\n CHEST (PORTABLE AP)...  \n",
              "1  [**2104-2-19**] 4:20 PM\\n CHEST (SINGLE VIEW) ...  \n",
              "2  [**2194-3-20**] 11:32 AM\\n CHEST (PORTABLE AP)...  \n",
              "3  [**2182-7-16**] 2:44 PM\\n CHEST (PORTABLE AP) ...  \n",
              "4  [**2138-7-26**] 6:49 AM\\n CHEST (PORTABLE AP) ...  "
            ]
          },
          "metadata": {
            "tags": []
          },
          "execution_count": 51
        }
      ]
    },
    {
      "metadata": {
        "id": "39aeASmGsX75",
        "colab_type": "code",
        "colab": {
          "base_uri": "https://localhost:8080/",
          "height": 590
        },
        "outputId": "84a54ecf-a5e9-446b-b61f-132b60b9e580"
      },
      "cell_type": "code",
      "source": [
        "#This prints a random report\n",
        "report = CXRreports.text[random.randint(0,1000)]\n",
        "print(report)"
      ],
      "execution_count": 59,
      "outputs": [
        {
          "output_type": "stream",
          "text": [
            "[**2133-1-29**] 11:58 AM\n",
            " CHEST (PORTABLE AP)                                             Clip # [**Clip Number (Radiology) 22938**]\n",
            " Reason: 34 y.o. with sarcoid and apspergilloma s/p left upper lobect\n",
            " ______________________________________________________________________________\n",
            " [**Hospital 3**] MEDICAL CONDITION:\n",
            "  34 year old man with presumed aspergillosis, s/p LULobectomy, now with\n",
            "  declining oxygen sats and left sided chest wall numbness.\n",
            " REASON FOR THIS EXAMINATION:\n",
            "  34 y.o. with sarcoid and apspergilloma s/p left upper lobectomy and acute\n",
            "  worsening of hypoxia.\n",
            " ______________________________________________________________________________\n",
            "                                 FINAL REPORT\n",
            " INDICATION:  Presumed aspergillosis, s/p left upper lobectomy, now with\n",
            " declining O2 sats, history of sarcoid.\n",
            "\n",
            " Comparison is made with the prior study dated [**2133-1-28**].  There is a right-sided\n",
            " PICC with the tip at the SVC/RA junction.  Massive hilar and mediastinal\n",
            " lymphadenopathy is present.  This film was reviewed in conjunction with the CT\n",
            " performed on [**2133-1-27**].  Again seen is the known cavity in the right upper lobe.\n",
            " There is a loculated anterior hydropneumothorax in the left upper hemithorax.\n",
            " A dedicated lateral film could assess this area better.  The bilateral\n",
            " alveolar opacities are slightly increased since the prior study.\n",
            "\n",
            " IMPRESSION:\n",
            " 1)  Slight worsening in bilateral alveolar opacities.  Although some of this\n",
            " represents the patient's sarcoid, there is also an acute component concerning\n",
            " for infection or edema.\n",
            " 2)  Loculated anterior hydropneumothorax on the left for which a dedicated\n",
            " lateral film may help evaluate further.\n",
            " 3)  Significant mediastinal and hilar lymphadenopathy consistent with\n",
            " patient's known history of sarcoidosis.\n",
            "\n",
            "\n"
          ],
          "name": "stdout"
        }
      ]
    },
    {
      "metadata": {
        "id": "1XE_GBgB4f6w",
        "colab_type": "code",
        "colab": {
          "base_uri": "https://localhost:8080/",
          "height": 69
        },
        "outputId": "14199423-f874-4d1d-a723-71f9f3320f7c"
      },
      "cell_type": "code",
      "source": [
        "  #This imports nltk and punkt into our environment\n",
        "  >>> import nltk\n",
        "  >>> nltk.download('punkt')"
      ],
      "execution_count": 67,
      "outputs": [
        {
          "output_type": "stream",
          "text": [
            "[nltk_data] Downloading package punkt to /root/nltk_data...\n",
            "[nltk_data]   Unzipping tokenizers/punkt.zip.\n"
          ],
          "name": "stdout"
        },
        {
          "output_type": "execute_result",
          "data": {
            "text/plain": [
              "True"
            ]
          },
          "metadata": {
            "tags": []
          },
          "execution_count": 67
        }
      ]
    },
    {
      "metadata": {
        "id": "G7iMxWsUsX8B",
        "colab_type": "code",
        "colab": {
          "base_uri": "https://localhost:8080/",
          "height": 923
        },
        "outputId": "b209b5e7-6379-4a1f-84a4-361c31722554"
      },
      "cell_type": "code",
      "source": [
        "# Tokenize the sentences with sent_tokenize from NLTK\n",
        "from nltk.tokenize.punkt import PunktSentenceTokenizer\n",
        "# Alternatively, tokenize with PunktSentenceTokenizer from NLTK if you want to keep track of character offsets of sentences\n",
        "sents = sent_tokenize(report.replace('\\n',' ')) # removing new line breaks\n",
        "# Print out list of sentences:\n",
        "sent_count = 0\n",
        "for s in sents:\n",
        "    print(\"Sentence \" + str(sent_count) +\":\")\n",
        "    print(s)\n",
        "    print()\n",
        "    sent_count = sent_count + 1"
      ],
      "execution_count": 68,
      "outputs": [
        {
          "output_type": "stream",
          "text": [
            "Sentence 0:\n",
            "[**2133-1-29**] 11:58 AM  CHEST (PORTABLE AP)                                             Clip # [**Clip Number (Radiology) 22938**]  Reason: 34 y.o.\n",
            "\n",
            "Sentence 1:\n",
            "with sarcoid and apspergilloma s/p left upper lobect  ______________________________________________________________________________  [**Hospital 3**] MEDICAL CONDITION:   34 year old man with presumed aspergillosis, s/p LULobectomy, now with   declining oxygen sats and left sided chest wall numbness.\n",
            "\n",
            "Sentence 2:\n",
            "REASON FOR THIS EXAMINATION:   34 y.o.\n",
            "\n",
            "Sentence 3:\n",
            "with sarcoid and apspergilloma s/p left upper lobectomy and acute   worsening of hypoxia.\n",
            "\n",
            "Sentence 4:\n",
            "______________________________________________________________________________                                  FINAL REPORT  INDICATION:  Presumed aspergillosis, s/p left upper lobectomy, now with  declining O2 sats, history of sarcoid.\n",
            "\n",
            "Sentence 5:\n",
            "Comparison is made with the prior study dated [**2133-1-28**].\n",
            "\n",
            "Sentence 6:\n",
            "There is a right-sided  PICC with the tip at the SVC/RA junction.\n",
            "\n",
            "Sentence 7:\n",
            "Massive hilar and mediastinal  lymphadenopathy is present.\n",
            "\n",
            "Sentence 8:\n",
            "This film was reviewed in conjunction with the CT  performed on [**2133-1-27**].\n",
            "\n",
            "Sentence 9:\n",
            "Again seen is the known cavity in the right upper lobe.\n",
            "\n",
            "Sentence 10:\n",
            "There is a loculated anterior hydropneumothorax in the left upper hemithorax.\n",
            "\n",
            "Sentence 11:\n",
            "A dedicated lateral film could assess this area better.\n",
            "\n",
            "Sentence 12:\n",
            "The bilateral  alveolar opacities are slightly increased since the prior study.\n",
            "\n",
            "Sentence 13:\n",
            "IMPRESSION:  1)  Slight worsening in bilateral alveolar opacities.\n",
            "\n",
            "Sentence 14:\n",
            "Although some of this  represents the patient's sarcoid, there is also an acute component concerning  for infection or edema.\n",
            "\n",
            "Sentence 15:\n",
            "2)  Loculated anterior hydropneumothorax on the left for which a dedicated  lateral film may help evaluate further.\n",
            "\n",
            "Sentence 16:\n",
            "3)  Significant mediastinal and hilar lymphadenopathy consistent with  patient's known history of sarcoidosis.\n",
            "\n"
          ],
          "name": "stdout"
        }
      ]
    },
    {
      "metadata": {
        "id": "xkF7qKoXsX8I",
        "colab_type": "code",
        "colab": {
          "base_uri": "https://localhost:8080/",
          "height": 923
        },
        "outputId": "725d8b2c-ab8d-4bfc-a277-b19d4940e534"
      },
      "cell_type": "code",
      "source": [
        "sent_count = 0\n",
        "for s_start, s_finish in PunktSentenceTokenizer().span_tokenize(report):\n",
        "    print(\"Sentence \" + str(sent_count) +\": \" + str([s_start, s_finish]))\n",
        "    print(report[s_start:s_finish].replace('\\n',' '))\n",
        "    print()\n",
        "    sent_count = sent_count + 1"
      ],
      "execution_count": 69,
      "outputs": [
        {
          "output_type": "stream",
          "text": [
            "Sentence 0: [0, 149]\n",
            "[**2133-1-29**] 11:58 AM  CHEST (PORTABLE AP)                                             Clip # [**Clip Number (Radiology) 22938**]  Reason: 34 y.o.\n",
            "\n",
            "Sentence 1: [150, 452]\n",
            "with sarcoid and apspergilloma s/p left upper lobect  ______________________________________________________________________________  [**Hospital 3**] MEDICAL CONDITION:   34 year old man with presumed aspergillosis, s/p LULobectomy, now with   declining oxygen sats and left sided chest wall numbness.\n",
            "\n",
            "Sentence 2: [454, 492]\n",
            "REASON FOR THIS EXAMINATION:   34 y.o.\n",
            "\n",
            "Sentence 3: [493, 582]\n",
            "with sarcoid and apspergilloma s/p left upper lobectomy and acute   worsening of hypoxia.\n",
            "\n",
            "Sentence 4: [584, 821]\n",
            "______________________________________________________________________________                                  FINAL REPORT  INDICATION:  Presumed aspergillosis, s/p left upper lobectomy, now with  declining O2 sats, history of sarcoid.\n",
            "\n",
            "Sentence 5: [824, 886]\n",
            "Comparison is made with the prior study dated [**2133-1-28**].\n",
            "\n",
            "Sentence 6: [888, 953]\n",
            "There is a right-sided  PICC with the tip at the SVC/RA junction.\n",
            "\n",
            "Sentence 7: [955, 1013]\n",
            "Massive hilar and mediastinal  lymphadenopathy is present.\n",
            "\n",
            "Sentence 8: [1015, 1095]\n",
            "This film was reviewed in conjunction with the CT  performed on [**2133-1-27**].\n",
            "\n",
            "Sentence 9: [1097, 1152]\n",
            "Again seen is the known cavity in the right upper lobe.\n",
            "\n",
            "Sentence 10: [1154, 1231]\n",
            "There is a loculated anterior hydropneumothorax in the left upper hemithorax.\n",
            "\n",
            "Sentence 11: [1233, 1288]\n",
            "A dedicated lateral film could assess this area better.\n",
            "\n",
            "Sentence 12: [1290, 1369]\n",
            "The bilateral  alveolar opacities are slightly increased since the prior study.\n",
            "\n",
            "Sentence 13: [1372, 1438]\n",
            "IMPRESSION:  1)  Slight worsening in bilateral alveolar opacities.\n",
            "\n",
            "Sentence 14: [1440, 1565]\n",
            "Although some of this  represents the patient's sarcoid, there is also an acute component concerning  for infection or edema.\n",
            "\n",
            "Sentence 15: [1567, 1682]\n",
            "2)  Loculated anterior hydropneumothorax on the left for which a dedicated  lateral film may help evaluate further.\n",
            "\n",
            "Sentence 16: [1684, 1794]\n",
            "3)  Significant mediastinal and hilar lymphadenopathy consistent with  patient's known history of sarcoidosis.\n",
            "\n"
          ],
          "name": "stdout"
        }
      ]
    },
    {
      "metadata": {
        "id": "I4XRba2RsX8Q",
        "colab_type": "text"
      },
      "cell_type": "markdown",
      "source": [
        "### Spot occurrence(s) of word(s) related to your concept in a sentence or document"
      ]
    },
    {
      "metadata": {
        "id": "t8FOZQz7sX8T",
        "colab_type": "code",
        "colab": {}
      },
      "cell_type": "code",
      "source": [
        "# Simple spotter: Spot occurrence of a term in a given lexicon anywhere within a text document or sentence:\n",
        "def spotter(text, lexicon):\n",
        "    text = text.lower()\n",
        "    # Spot if a document mentions any of the terms in the lexicon (not worrying about negation detection yet)\n",
        "    match = [x in text for x in lexicon]\n",
        "    if any(match) == True:\n",
        "        mentioned = 1\n",
        "    else:\n",
        "        mentioned = 0\n",
        "    return mentioned"
      ],
      "execution_count": 0,
      "outputs": []
    },
    {
      "metadata": {
        "id": "j2klc13vsX8b",
        "colab_type": "code",
        "colab": {}
      },
      "cell_type": "code",
      "source": [
        "# Where the lexicon is a list of word(s) or phrase(s) refering to a concept of interest to you, e.g.\n",
        "ptx = ['pneumothorax', 'ptx']\n",
        "sent1 = 'Large left apical ptx present.'\n",
        "sent2 = 'Hello world for NLP'\n"
      ],
      "execution_count": 0,
      "outputs": []
    },
    {
      "metadata": {
        "id": "RrGoOz2rsX8q",
        "colab_type": "code",
        "colab": {
          "base_uri": "https://localhost:8080/",
          "height": 34
        },
        "outputId": "8feb0495-fe8e-4a8e-d456-19a1f11f6b07"
      },
      "cell_type": "code",
      "source": [
        "# lexicon mentioned in text, spotter return 1 (yes)\n",
        "spotter(sent1, ptx)"
      ],
      "execution_count": 73,
      "outputs": [
        {
          "output_type": "execute_result",
          "data": {
            "text/plain": [
              "1"
            ]
          },
          "metadata": {
            "tags": []
          },
          "execution_count": 73
        }
      ]
    },
    {
      "metadata": {
        "id": "mv8L6YgJsX8z",
        "colab_type": "code",
        "colab": {
          "base_uri": "https://localhost:8080/",
          "height": 34
        },
        "outputId": "80b5e055-5741-44a4-d45b-45dbb1341ebf"
      },
      "cell_type": "code",
      "source": [
        "# lexicon not mentioned in text, spotter return 0 (no)\n",
        "spotter(sent2, ptx)"
      ],
      "execution_count": 74,
      "outputs": [
        {
          "output_type": "execute_result",
          "data": {
            "text/plain": [
              "0"
            ]
          },
          "metadata": {
            "tags": []
          },
          "execution_count": 74
        }
      ]
    },
    {
      "metadata": {
        "id": "DjY1RsVxsX87",
        "colab_type": "text"
      },
      "cell_type": "markdown",
      "source": [
        "**How can we do better?**\n",
        "We can do the spotting of concepts (lexicons) A LOT better (more sensitive) if we curate a list of all the ways that the concept could be expressed in raw text. This is what the NLP tool can help you achieve."
      ]
    },
    {
      "metadata": {
        "id": "jdGA0_RCsX88",
        "colab_type": "text"
      },
      "cell_type": "markdown",
      "source": [
        "### Download a lexicon from the NLP tool:"
      ]
    },
    {
      "metadata": {
        "id": "MxCveXnLsX8_",
        "colab_type": "code",
        "colab": {}
      },
      "cell_type": "code",
      "source": [
        "import getpass\n",
        "# Enter your team's username between the quotation marks:\n",
        "user = \"team1\"\n",
        "# Enter your team's password\n",
        "#password = getpass.getpass()\n",
        "# If the above doesn't work, then comment out the password variable above and hard code your team's password below:\n",
        "password = 'sends reforms capture mileage'"
      ],
      "execution_count": 0,
      "outputs": []
    },
    {
      "metadata": {
        "id": "k0DikGGAsX9G",
        "colab_type": "code",
        "colab": {}
      },
      "cell_type": "code",
      "source": [
        "# This is the id of the lexicon - you can see it in the URL line when you are working with the lexicon\n",
        "# For example, for pneumothorax, it is:\n",
        "oid = \".2.48\"\n",
        "# You can do this in a loop to download all relevant lexicons into a data format you prefer too"
      ],
      "execution_count": 0,
      "outputs": []
    },
    {
      "metadata": {
        "id": "urOKwOq8sX9M",
        "colab_type": "code",
        "colab": {}
      },
      "cell_type": "code",
      "source": [
        "# Don't spam with insecure warnings - some machines do not have all signing authority\n",
        "# root certificates preinstalled\n",
        "import urllib3\n",
        "urllib3.disable_warnings(urllib3.exceptions.InsecureRequestWarning)"
      ],
      "execution_count": 0,
      "outputs": []
    },
    {
      "metadata": {
        "id": "ttoSeI6VsX9R",
        "colab_type": "code",
        "colab": {}
      },
      "cell_type": "code",
      "source": [
        "# The endpoints for the REST\n",
        "host = \"https://dla.sl.res.ibm.com\"\n",
        "lexurl = host + \"/oid\" + oid.replace('.', '/')\n",
        "quartermaster =  host + \"/search\""
      ],
      "execution_count": 0,
      "outputs": []
    },
    {
      "metadata": {
        "scrolled": true,
        "id": "k8K_mXhCsX9Y",
        "colab_type": "code",
        "colab": {}
      },
      "cell_type": "code",
      "source": [
        "# Set up auth and get the lexicon. Then pull the terms out and lower case them\n",
        "auth=(user,password)\n",
        "lex = requests.get(lexurl, verify=False, auth=auth).json()\n",
        "terms = list(map(lambda x: x[\"surfaceForm\"].lower(), lex[\"members\"]))"
      ],
      "execution_count": 0,
      "outputs": []
    },
    {
      "metadata": {
        "id": "U0b-NKqesX9g",
        "colab_type": "code",
        "colab": {
          "base_uri": "https://localhost:8080/",
          "height": 54
        },
        "outputId": "d21fbc07-fb1d-44fe-a1c2-8d63f033cec5"
      },
      "cell_type": "code",
      "source": [
        "# Printing out the pneumothorax lexicon (after 5 minutes of curating work on the NLP tool)\n",
        "ptx = terms.copy()\n",
        "print(ptx)"
      ],
      "execution_count": 80,
      "outputs": [
        {
          "output_type": "stream",
          "text": [
            "['pneumothorax', 'ptx', 'pneumothoraces', 'pnuemothorax', 'pnumothorax', 'pntx', 'penumothorax', 'pneomothorax', 'pneumonthorax', 'pnemothorax', 'pneumothoraxes', 'pneumpthorax', 'pneuomthorax', 'pneumothorx', 'pneumothrax', 'pneumothroax', 'pneumothraces', 'pneunothorax', 'enlarging pneumo', 'pneumothoroax', 'pneuothorax']\n"
          ],
          "name": "stdout"
        }
      ]
    },
    {
      "metadata": {
        "id": "te2F6evWsX9u",
        "colab_type": "text"
      },
      "cell_type": "markdown",
      "source": [
        "### Negation detection"
      ]
    },
    {
      "metadata": {
        "id": "F4WUjy4LsX9w",
        "colab_type": "code",
        "colab": {
          "base_uri": "https://localhost:8080/",
          "height": 34
        },
        "outputId": "3bfebcd8-9f62-4d32-8238-2ed5f315f2e6"
      },
      "cell_type": "code",
      "source": [
        "# But it's not enough to just spot word occurrences to determine if a concept is affirmative (positive/present) or not.\n",
        "\n",
        "# e.g. lexicon mentioned in text but negated, a simple spotter would still return 1 (yes)\n",
        "sent3 = 'Pneumothorax has resolved.'\n",
        "spotter(sent3, ptx)"
      ],
      "execution_count": 81,
      "outputs": [
        {
          "output_type": "execute_result",
          "data": {
            "text/plain": [
              "1"
            ]
          },
          "metadata": {
            "tags": []
          },
          "execution_count": 81
        }
      ]
    },
    {
      "metadata": {
        "id": "gdD6dxLMsX99",
        "colab_type": "code",
        "colab": {
          "base_uri": "https://localhost:8080/",
          "height": 34
        },
        "outputId": "dd9ad577-4f98-4362-bcad-548a8a93bad5"
      },
      "cell_type": "code",
      "source": [
        "# However, if negation related words occur in close proximity (e.g. same sentence) to a spotted concept \n",
        "# Then we can right some rules to determine if the concept was negated or not\n",
        "\n",
        "# e.g. spotting negation words in the same sentence:\n",
        "neg = ['no','never','not','removed', 'ruled out']\n",
        "spotter(sent2, neg)"
      ],
      "execution_count": 82,
      "outputs": [
        {
          "output_type": "execute_result",
          "data": {
            "text/plain": [
              "0"
            ]
          },
          "metadata": {
            "tags": []
          },
          "execution_count": 82
        }
      ]
    },
    {
      "metadata": {
        "id": "TIf0l1nmsX-G",
        "colab_type": "text"
      },
      "cell_type": "markdown",
      "source": [
        "### Using off-the-shelf python library for negation, e.g. Negex"
      ]
    },
    {
      "metadata": {
        "id": "weCXERm6yjGp",
        "colab_type": "code",
        "colab": {
          "base_uri": "https://localhost:8080/",
          "height": 399
        },
        "outputId": "40e8b967-aefc-488f-fd80-c5993b89f707"
      },
      "cell_type": "code",
      "source": [
        "#This downloads a copy of negex.py\n",
        "!wget  https://stuff.mit.edu/~cwc76/hst953/negex.py\n",
        "!wget  https://stuff.mit.edu/~cwc76/hst953/negex_triggers.txt\n",
        "  \n"
      ],
      "execution_count": 83,
      "outputs": [
        {
          "output_type": "stream",
          "text": [
            "--2018-10-11 20:48:24--  https://stuff.mit.edu/~cwc76/hst953/negex.py\n",
            "Resolving stuff.mit.edu (stuff.mit.edu)... 18.4.60.31\n",
            "Connecting to stuff.mit.edu (stuff.mit.edu)|18.4.60.31|:443... connected.\n",
            "HTTP request sent, awaiting response... 200 OK\n",
            "Length: 8984 (8.8K) [text/x-python]\n",
            "Saving to: ‘negex.py.3’\n",
            "\n",
            "\rnegex.py.3            0%[                    ]       0  --.-KB/s               \rnegex.py.3          100%[===================>]   8.77K  --.-KB/s    in 0s      \n",
            "\n",
            "2018-10-11 20:48:25 (103 MB/s) - ‘negex.py.3’ saved [8984/8984]\n",
            "\n",
            "--2018-10-11 20:48:26--  https://stuff.mit.edu/~cwc76/hst953/negex_triggers.txt\n",
            "Resolving stuff.mit.edu (stuff.mit.edu)... 18.4.60.31\n",
            "Connecting to stuff.mit.edu (stuff.mit.edu)|18.4.60.31|:443... connected.\n",
            "HTTP request sent, awaiting response... 200 OK\n",
            "Length: 7363 (7.2K) [text/plain]\n",
            "Saving to: ‘negex_triggers.txt.1’\n",
            "\n",
            "negex_triggers.txt. 100%[===================>]   7.19K  --.-KB/s    in 0s      \n",
            "\n",
            "2018-10-11 20:48:26 (182 MB/s) - ‘negex_triggers.txt.1’ saved [7363/7363]\n",
            "\n"
          ],
          "name": "stdout"
        }
      ]
    },
    {
      "metadata": {
        "id": "lH7ofx7csX-J",
        "colab_type": "code",
        "colab": {
          "base_uri": "https://localhost:8080/",
          "height": 34
        },
        "outputId": "52d66c6d-6458-4f2b-cf96-3b3341a8d60d"
      },
      "cell_type": "code",
      "source": [
        "import negex\n",
        "rfile = open(r'negex_triggers.txt')\n",
        "irules = negex.sortRules(rfile.readlines())\n",
        "rfile.close()\n",
        "\n",
        "# Example:\n",
        "sent = \"There is no evidence of ptx.\"\n",
        "ptx = ['pneumothorax', 'ptx']\n",
        "tagger = negex.negTagger(sentence = sent, phrases = ptx, rules = irules, negP=False)\n",
        "negation = tagger.getNegationFlag()\n",
        "negation"
      ],
      "execution_count": 84,
      "outputs": [
        {
          "output_type": "execute_result",
          "data": {
            "text/plain": [
              "'negated'"
            ]
          },
          "metadata": {
            "tags": []
          },
          "execution_count": 84
        }
      ]
    },
    {
      "metadata": {
        "id": "c4SH4MWFsX-O",
        "colab_type": "code",
        "colab": {
          "base_uri": "https://localhost:8080/",
          "height": 86
        },
        "outputId": "c6bc5436-17f1-4b7a-f8ad-2c0173b152a8"
      },
      "cell_type": "code",
      "source": [
        "# Applying Negex to the first note:\n",
        "# Specify the lexicon of interest (\"phrases\" for Negex)\n",
        "ptx = terms.copy()\n",
        "# Get a randome note from the dataset:\n",
        "note = CXRreports['text'][random.randint(0,1000)]\n",
        "# Tokenize the sentences:\n",
        "sents = sent_tokenize(note.replace('\\n',' ')) # replacing new line breaks\n",
        "# Applying spotter function to each sentence:\n",
        "#neg_output = []\n",
        "count = 0\n",
        "for sent in sents:\n",
        "    # Apply Negex if a term in the ptx lexicon is spotted\n",
        "    if spotter(sent,ptx) == 1:\n",
        "        tagger = negex.negTagger(sentence = sent, phrases = ptx, rules = irules, negP=False)\n",
        "        negation = tagger.getNegationFlag()\n",
        "        #neg_output.append(negation)\n",
        "        print(\"Sentence \" + str(count) + \":\\n\" + sent + \"\\nNegex output: \" + negation + '\\n')\n",
        "        count = count + 1"
      ],
      "execution_count": 85,
      "outputs": [
        {
          "output_type": "stream",
          "text": [
            "Sentence 0:\n",
            "No pneumothorax.\n",
            "Negex output: negated\n",
            "\n"
          ],
          "name": "stdout"
        }
      ]
    },
    {
      "metadata": {
        "id": "CLsQFv0qsX-U",
        "colab_type": "code",
        "colab": {
          "base_uri": "https://localhost:8080/",
          "height": 399
        },
        "outputId": "d20c9550-4211-49f0-e91d-1f8ff81c7867"
      },
      "cell_type": "code",
      "source": [
        "# Show the relevant CXR report for the analysis\n",
        "print(note)"
      ],
      "execution_count": 86,
      "outputs": [
        {
          "output_type": "stream",
          "text": [
            "[**2195-8-26**] 3:44 PM\n",
            " CHEST (PORTABLE AP)                                             Clip # [**Clip Number (Radiology) 8800**]\n",
            " Reason: ett confirmaiton\n",
            " ______________________________________________________________________________\n",
            " [**Hospital 3**] MEDICAL CONDITION:\n",
            "  42 year old man with astrocytoma s/p craniotomy\n",
            " REASON FOR THIS EXAMINATION:\n",
            "  ett confirmaiton\n",
            " ______________________________________________________________________________\n",
            "                                 FINAL REPORT\n",
            " INDICATION:  Status post craniotomy for astrocytoma.  Check ETT.\n",
            "\n",
            " COMPARISON:  [**2188-7-24**].\n",
            "\n",
            " PORTABLE SUPINE CHEST AT 15:44:  The endotracheal tube is 5.8 cm above the\n",
            " carina. The heart and mediastinal contours are within normal limits. There is\n",
            " no evidence of vascular congestion, pleural effusions or focal consolidations.\n",
            "  No pneumothorax.\n",
            "\n",
            " IMPRESSION:  ETT in satisfactory position .\n",
            "\n",
            "\n"
          ],
          "name": "stdout"
        }
      ]
    },
    {
      "metadata": {
        "id": "jTK33byysX-a",
        "colab_type": "text"
      },
      "cell_type": "markdown",
      "source": [
        "### Exercise for you:\n",
        "\n",
        "You can use similar/improved pipeline to loop through all the notes in your dataset and through different concepts/lexicons!"
      ]
    },
    {
      "metadata": {
        "id": "cMg45S-HsX-c",
        "colab_type": "code",
        "colab": {}
      },
      "cell_type": "code",
      "source": [
        ""
      ],
      "execution_count": 0,
      "outputs": []
    },
    {
      "metadata": {
        "id": "XTrozTq7sX-o",
        "colab_type": "code",
        "colab": {}
      },
      "cell_type": "code",
      "source": [
        ""
      ],
      "execution_count": 0,
      "outputs": []
    },
    {
      "metadata": {
        "id": "vqJmlOkAsX-s",
        "colab_type": "code",
        "colab": {}
      },
      "cell_type": "code",
      "source": [
        ""
      ],
      "execution_count": 0,
      "outputs": []
    },
    {
      "metadata": {
        "id": "IZwZ6kV-sX-v",
        "colab_type": "code",
        "colab": {}
      },
      "cell_type": "code",
      "source": [
        ""
      ],
      "execution_count": 0,
      "outputs": []
    }
  ]
}