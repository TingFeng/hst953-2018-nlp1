{
  "nbformat": 4,
  "nbformat_minor": 0,
  "metadata": {
    "colab": {
      "name": "MIT Tutorial - Part D - Obese.ipynb",
      "version": "0.3.2",
      "provenance": []
    },
    "kernelspec": {
      "display_name": "Python 3",
      "language": "python",
      "name": "python3"
    }
  },
  "cells": [
    {
      "metadata": {
        "id": "TsRhtG_v8x6v",
        "colab_type": "text"
      },
      "cell_type": "markdown",
      "source": [
        "# Part D - Identifying Obese\n"
      ]
    },
    {
      "metadata": {
        "id": "WrIBRxjB8x62",
        "colab_type": "code",
        "colab": {}
      },
      "cell_type": "code",
      "source": [
        "# First off - load all the silly python libraries we are going to need\n",
        "import pandas as pd\n",
        "import numpy as np\n",
        "import os\n",
        "\n",
        "from google.colab import auth\n",
        "from google.cloud import bigquery\n",
        "from google.colab import files"
      ],
      "execution_count": 0,
      "outputs": []
    },
    {
      "metadata": {
        "id": "VjUx4sRP9MOm",
        "colab_type": "code",
        "colab": {}
      },
      "cell_type": "code",
      "source": [
        "auth.authenticate_user() #This will allow you to authenticate access to BigQuery"
      ],
      "execution_count": 0,
      "outputs": []
    },
    {
      "metadata": {
        "id": "8q5UwFs89SSX",
        "colab_type": "code",
        "colab": {}
      },
      "cell_type": "code",
      "source": [
        "#This is a method that executes a desired SQL query on the database\n",
        "project_id='hst-953-2018'\n",
        "os.environ[\"GOOGLE_CLOUD_PROJECT\"]=project_id\n",
        "# Read data from BigQuery into pandas dataframes.\n",
        "def run_query(query):\n",
        "  return pd.io.gbq.read_gbq(query, project_id=project_id, verbose=False, configuration={'query':{'useLegacySql': False}})"
      ],
      "execution_count": 0,
      "outputs": []
    },
    {
      "metadata": {
        "id": "aKTDxcNM8x7B",
        "colab_type": "code",
        "colab": {}
      },
      "cell_type": "code",
      "source": [
        "# Now load the data. In general you'd load the whole set of notes but that would take\n",
        "# several minutes so for this example we're just going to use a subset\n",
        "#notes = pd.read_csv('D.csv')\n",
        "notes = run_query('''\n",
        "    SELECT *\n",
        "    FROM `physionet-data.mimiciii_notes.noteevents`\n",
        "    WHERE CATEGORY = 'Discharge summary'\n",
        "    ''')\n"
      ],
      "execution_count": 0,
      "outputs": []
    },
    {
      "metadata": {
        "id": "jXFarBSbA7cU",
        "colab_type": "code",
        "colab": {
          "base_uri": "https://localhost:8080/",
          "height": 206
        },
        "outputId": "7f0f0acb-335c-4d3a-8b11-66b4fb20ae81"
      },
      "cell_type": "code",
      "source": [
        "notes.head()"
      ],
      "execution_count": 17,
      "outputs": [
        {
          "output_type": "execute_result",
          "data": {
            "text/html": [
              "<div>\n",
              "<style scoped>\n",
              "    .dataframe tbody tr th:only-of-type {\n",
              "        vertical-align: middle;\n",
              "    }\n",
              "\n",
              "    .dataframe tbody tr th {\n",
              "        vertical-align: top;\n",
              "    }\n",
              "\n",
              "    .dataframe thead th {\n",
              "        text-align: right;\n",
              "    }\n",
              "</style>\n",
              "<table border=\"1\" class=\"dataframe\">\n",
              "  <thead>\n",
              "    <tr style=\"text-align: right;\">\n",
              "      <th></th>\n",
              "      <th>ROW_ID</th>\n",
              "      <th>SUBJECT_ID</th>\n",
              "      <th>HADM_ID</th>\n",
              "      <th>CHARTDATE</th>\n",
              "      <th>CHARTTIME</th>\n",
              "      <th>STORETIME</th>\n",
              "      <th>CATEGORY</th>\n",
              "      <th>DESCRIPTION</th>\n",
              "      <th>CGID</th>\n",
              "      <th>ISERROR</th>\n",
              "      <th>TEXT</th>\n",
              "    </tr>\n",
              "  </thead>\n",
              "  <tbody>\n",
              "    <tr>\n",
              "      <th>0</th>\n",
              "      <td>1227</td>\n",
              "      <td>3403</td>\n",
              "      <td>172500</td>\n",
              "      <td>2172-06-20</td>\n",
              "      <td>None</td>\n",
              "      <td>None</td>\n",
              "      <td>Discharge summary</td>\n",
              "      <td>Report</td>\n",
              "      <td>None</td>\n",
              "      <td>None</td>\n",
              "      <td>Admission Date:  [**2172-6-15**]              ...</td>\n",
              "    </tr>\n",
              "    <tr>\n",
              "      <th>1</th>\n",
              "      <td>2055</td>\n",
              "      <td>17137</td>\n",
              "      <td>174999</td>\n",
              "      <td>2156-07-04</td>\n",
              "      <td>None</td>\n",
              "      <td>None</td>\n",
              "      <td>Discharge summary</td>\n",
              "      <td>Report</td>\n",
              "      <td>None</td>\n",
              "      <td>None</td>\n",
              "      <td>Admission Date:  [**2156-6-29**]       Dischar...</td>\n",
              "    </tr>\n",
              "    <tr>\n",
              "      <th>2</th>\n",
              "      <td>2077</td>\n",
              "      <td>6541</td>\n",
              "      <td>110445</td>\n",
              "      <td>2133-04-02</td>\n",
              "      <td>None</td>\n",
              "      <td>None</td>\n",
              "      <td>Discharge summary</td>\n",
              "      <td>Report</td>\n",
              "      <td>None</td>\n",
              "      <td>None</td>\n",
              "      <td>Admission Date:  [**2133-3-28**]       Dischar...</td>\n",
              "    </tr>\n",
              "    <tr>\n",
              "      <th>3</th>\n",
              "      <td>6427</td>\n",
              "      <td>31203</td>\n",
              "      <td>139699</td>\n",
              "      <td>2148-08-12</td>\n",
              "      <td>None</td>\n",
              "      <td>None</td>\n",
              "      <td>Discharge summary</td>\n",
              "      <td>Report</td>\n",
              "      <td>None</td>\n",
              "      <td>None</td>\n",
              "      <td>Admission Date:  [**2148-7-29**]              ...</td>\n",
              "    </tr>\n",
              "    <tr>\n",
              "      <th>4</th>\n",
              "      <td>12491</td>\n",
              "      <td>13422</td>\n",
              "      <td>199876</td>\n",
              "      <td>2148-05-04</td>\n",
              "      <td>None</td>\n",
              "      <td>None</td>\n",
              "      <td>Discharge summary</td>\n",
              "      <td>Report</td>\n",
              "      <td>None</td>\n",
              "      <td>None</td>\n",
              "      <td>Admission Date:  [**2148-4-23**]       Dischar...</td>\n",
              "    </tr>\n",
              "  </tbody>\n",
              "</table>\n",
              "</div>"
            ],
            "text/plain": [
              "   ROW_ID  SUBJECT_ID  HADM_ID   CHARTDATE CHARTTIME STORETIME  \\\n",
              "0    1227        3403   172500  2172-06-20      None      None   \n",
              "1    2055       17137   174999  2156-07-04      None      None   \n",
              "2    2077        6541   110445  2133-04-02      None      None   \n",
              "3    6427       31203   139699  2148-08-12      None      None   \n",
              "4   12491       13422   199876  2148-05-04      None      None   \n",
              "\n",
              "            CATEGORY DESCRIPTION  CGID ISERROR  \\\n",
              "0  Discharge summary      Report  None    None   \n",
              "1  Discharge summary      Report  None    None   \n",
              "2  Discharge summary      Report  None    None   \n",
              "3  Discharge summary      Report  None    None   \n",
              "4  Discharge summary      Report  None    None   \n",
              "\n",
              "                                                TEXT  \n",
              "0  Admission Date:  [**2172-6-15**]              ...  \n",
              "1  Admission Date:  [**2156-6-29**]       Dischar...  \n",
              "2  Admission Date:  [**2133-3-28**]       Dischar...  \n",
              "3  Admission Date:  [**2148-7-29**]              ...  \n",
              "4  Admission Date:  [**2148-4-23**]       Dischar...  "
            ]
          },
          "metadata": {
            "tags": []
          },
          "execution_count": 17
        }
      ]
    },
    {
      "metadata": {
        "id": "KbrGptE78x7P",
        "colab_type": "code",
        "colab": {}
      },
      "cell_type": "code",
      "source": [
        "# Load the gold standard\n",
        "#gold = pd.read_csv('obese-gold.csv')\n",
        "gold = run_query('''\n",
        "    SELECT *  \n",
        "    FROM `hst-953-2018.NLP_workshop.obese_gold` \n",
        "    ''')\n"
      ],
      "execution_count": 0,
      "outputs": []
    },
    {
      "metadata": {
        "id": "VDFgJnmM8x7g",
        "colab_type": "code",
        "colab": {}
      },
      "cell_type": "code",
      "source": [
        "# Here is the list of terms we are going to consider \"good\"\n",
        "terms = ['obese']"
      ],
      "execution_count": 0,
      "outputs": []
    },
    {
      "metadata": {
        "id": "p80Fp2xO8x7n",
        "colab_type": "code",
        "colab": {
          "base_uri": "https://localhost:8080/",
          "height": 34
        },
        "outputId": "d6a0cc13-7267-4f50-8353-7890e56ec17c"
      },
      "cell_type": "code",
      "source": [
        "# Now scan through all of the notes. Do any of the terms appear? If so stash the note \n",
        "# id for future use\n",
        "\n",
        "matches = []\n",
        "\n",
        "for index, row in notes.iterrows():\n",
        "    if any(x in row['TEXT'] for x in terms):\n",
        "        matches.append(row['SUBJECT_ID'])\n",
        "\n",
        "print(\"Found \" + str(len(matches)) + \" matching notes.\")"
      ],
      "execution_count": 20,
      "outputs": [
        {
          "output_type": "stream",
          "text": [
            "Found 4934 matching notes.\n"
          ],
          "name": "stdout"
        }
      ]
    },
    {
      "metadata": {
        "id": "1qD-RMxd8x7x",
        "colab_type": "code",
        "colab": {}
      },
      "cell_type": "code",
      "source": [
        "# For the patients in those notes, set \"obese\" true (1) in a the results\n",
        "myscores = gold.copy()\n",
        "myscores['obese_1'] = 0 # This sets them all to unknown\n",
        "\n",
        "for subject_id in matches:\n",
        "    myscores.loc[myscores[\"subject_id\"] == subject_id,'obese_1'] = 1\n"
      ],
      "execution_count": 0,
      "outputs": []
    },
    {
      "metadata": {
        "id": "jluSXN7A8x76",
        "colab_type": "code",
        "colab": {
          "base_uri": "https://localhost:8080/",
          "height": 121
        },
        "outputId": "819068f3-6e81-4f34-f52c-e4988100aa2b"
      },
      "cell_type": "code",
      "source": [
        "# Compute your score\n",
        "\n",
        "skipped = 0\n",
        "truepositive = 0\n",
        "falsepositive = 0\n",
        "truenegative = 0\n",
        "falsenegative = 0\n",
        "\n",
        "for index, row in myscores.iterrows():\n",
        "    if row['obese_1'] == 0:\n",
        "        skipped = skipped + 1\n",
        "    else:\n",
        "        if row['obese_1'] == 1 and gold.loc[index]['obese_1'] == 1:\n",
        "            truepositive = truepositive + 1\n",
        "        elif row['obese_1'] == -1 and gold.loc[index]['obese_1'] == -1:\n",
        "            truenegative = truenegative + 1\n",
        "        elif row['obese_1'] == 1 and gold.loc[index]['obese_1'] == -1:\n",
        "            falsepositive = falsepositive + 1\n",
        "        elif row['obese_1'] == -1 and gold.loc[index]['obese_1'] == 1:\n",
        "            falsenegative = falsenegative + 1\n",
        "\n",
        "print (\"Skipped:\\t\" + str(skipped))\n",
        "print (\"True Pos:\\t\" + str(truepositive))\n",
        "print (\"True Neg:\\t\" + str(truenegative))\n",
        "print (\"False Pos:\\t\" + str(falsepositive))\n",
        "print (\"False Neg:\\t\" + str(falsenegative))     \n",
        "print (\"SCORE:\\t\\t\" + str(truepositive + truenegative - falsepositive - falsenegative))"
      ],
      "execution_count": 22,
      "outputs": [
        {
          "output_type": "stream",
          "text": [
            "Skipped:\t79\n",
            "True Pos:\t18\n",
            "True Neg:\t0\n",
            "False Pos:\t3\n",
            "False Neg:\t0\n",
            "SCORE:\t\t15\n"
          ],
          "name": "stdout"
        }
      ]
    }
  ]
}