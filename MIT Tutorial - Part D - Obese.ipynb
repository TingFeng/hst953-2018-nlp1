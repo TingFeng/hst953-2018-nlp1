{
 "cells": [
  {
   "cell_type": "markdown",
   "metadata": {},
   "source": [
    "# Part D - Identifying Obese\n"
   ]
  },
  {
   "cell_type": "code",
   "execution_count": 1,
   "metadata": {},
   "outputs": [],
   "source": [
    "# First off - load all the silly python libraries we are going to need\n",
    "import pandas as pd\n",
    "import numpy as np"
   ]
  },
  {
   "cell_type": "code",
   "execution_count": 2,
   "metadata": {},
   "outputs": [],
   "source": [
    "# Now load the data. In general you'd load the whole set of notes but that would take\n",
    "# several minutes so for this example we're just going to use a subset\n",
    "notes = pd.read_csv('D.csv')"
   ]
  },
  {
   "cell_type": "code",
   "execution_count": 3,
   "metadata": {},
   "outputs": [],
   "source": [
    "# Load the gold standard\n",
    "gold = pd.read_csv('obese-gold.csv')"
   ]
  },
  {
   "cell_type": "code",
   "execution_count": 4,
   "metadata": {},
   "outputs": [],
   "source": [
    "# Here is the list of terms we are going to consider \"good\"\n",
    "terms = ['obese']"
   ]
  },
  {
   "cell_type": "code",
   "execution_count": 5,
   "metadata": {},
   "outputs": [
    {
     "name": "stdout",
     "output_type": "stream",
     "text": [
      "Found 97 matching notes.\n"
     ]
    }
   ],
   "source": [
    "# Now scan through all of the notes. Do any of the terms appear? If so stash the note \n",
    "# id for future use\n",
    "\n",
    "matches = []\n",
    "\n",
    "for index, row in notes.iterrows():\n",
    "    if any(x in row['TEXT'] for x in terms):\n",
    "        matches.append(row['SUBJECT_ID'])\n",
    "\n",
    "print(\"Found \" + str(len(matches)) + \" matching notes.\")"
   ]
  },
  {
   "cell_type": "code",
   "execution_count": 6,
   "metadata": {},
   "outputs": [],
   "source": [
    "# For the patients in those notes, set \"obese\" true (1) in a the results\n",
    "myscores = gold.copy()\n",
    "myscores['obese_1'] = 0 # This sets them all to unknown\n",
    "\n",
    "for subject_id in matches:\n",
    "    myscores.loc[myscores[\"subject_id\"] == subject_id,'obese_1'] = 1\n"
   ]
  },
  {
   "cell_type": "code",
   "execution_count": 7,
   "metadata": {},
   "outputs": [
    {
     "name": "stdout",
     "output_type": "stream",
     "text": [
      "Skipped:\t64\n",
      "True Pos:\t30\n",
      "True Neg:\t0\n",
      "False Pos:\t6\n",
      "False Neg:\t0\n",
      "SCORE:\t\t24\n"
     ]
    }
   ],
   "source": [
    "# Compute your score\n",
    "\n",
    "skipped = 0\n",
    "truepositive = 0\n",
    "falsepositive = 0\n",
    "truenegative = 0\n",
    "falsenegative = 0\n",
    "\n",
    "for index, row in myscores.iterrows():\n",
    "    if row['obese_1'] == 0:\n",
    "        skipped = skipped + 1\n",
    "    else:\n",
    "        if row['obese_1'] == 1 and gold.loc[index]['obese_1'] == 1:\n",
    "            truepositive = truepositive + 1\n",
    "        elif row['obese_1'] == -1 and gold.loc[index]['obese_1'] == -1:\n",
    "            truenegative = truenegative + 1\n",
    "        elif row['obese_1'] == 1 and gold.loc[index]['obese_1'] == -1:\n",
    "            falsepositive = falsepositive + 1\n",
    "        elif row['obese_1'] == -1 and gold.loc[index]['obese_1'] == 1:\n",
    "            falsenegative = falsenegative + 1\n",
    "\n",
    "print (\"Skipped:\\t\" + str(skipped))\n",
    "print (\"True Pos:\\t\" + str(truepositive))\n",
    "print (\"True Neg:\\t\" + str(truenegative))\n",
    "print (\"False Pos:\\t\" + str(falsepositive))\n",
    "print (\"False Neg:\\t\" + str(falsenegative))     \n",
    "print (\"SCORE:\\t\\t\" + str(truepositive + truenegative - falsepositive - falsenegative))"
   ]
  }
 ],
 "metadata": {
  "kernelspec": {
   "display_name": "Python 3",
   "language": "python",
   "name": "python3"
  },
  "language_info": {
   "codemirror_mode": {
    "name": "ipython",
    "version": 3
   },
   "file_extension": ".py",
   "mimetype": "text/x-python",
   "name": "python",
   "nbconvert_exporter": "python",
   "pygments_lexer": "ipython3",
   "version": "3.5.2"
  }
 },
 "nbformat": 4,
 "nbformat_minor": 2
}
