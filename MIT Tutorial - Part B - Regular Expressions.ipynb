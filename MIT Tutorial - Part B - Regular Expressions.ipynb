{
  "nbformat": 4,
  "nbformat_minor": 0,
  "metadata": {
    "colab": {
      "name": "Copy of Regular expressions tutorial .ipynb",
      "version": "0.3.2",
      "provenance": [],
      "collapsed_sections": [],
      "include_colab_link": true
    },
    "kernelspec": {
      "name": "python3",
      "display_name": "Python 3"
    }
  },
  "cells": [
    {
      "cell_type": "markdown",
      "metadata": {
        "id": "view-in-github",
        "colab_type": "text"
      },
      "source": [
        "[View in Colaboratory](https://colab.research.google.com/github/criticaldatacourse/hst953-2018-nlp1/blob/master/MIT%20Tutorial%20-%20Part%20B%20-%20Regular%20Expressions.ipynb)"
      ]
    },
    {
      "metadata": {
        "id": "-sfcA9tSUNeu",
        "colab_type": "text"
      },
      "cell_type": "markdown",
      "source": [
        "# Part B: Fun With Regular Expressions!!\n",
        "\n",
        "In this section, we will learn what a regular expression is and use our new learn skills to get information from notes in MIMIC.\n",
        "\n",
        "**What is a Regular Expression:**\n",
        "* A regular expression (RegEx) is a sophisticated search command, it makes use of patterns\n",
        "* This can be implemented in many different languages. The specific syntax used in each language may vary, but the concepts are the same!\n",
        "\n",
        "Please refer to this for some basic regular expression definitions: \n",
        "http://web.mit.edu/hackl/www/lab/turkshop/slides/regex-cheatsheet.pdf\n"
      ]
    },
    {
      "metadata": {
        "id": "21rcOnS1Se_9",
        "colab_type": "text"
      },
      "cell_type": "markdown",
      "source": [
        "### B.0 Fancy Pattern Matching\n",
        "To visualize how regular expressions work, we will use the following website: \n",
        "https://regex101.com/ \n",
        "\n",
        "Please go to this website in another browser.\n",
        "<br><br><br>\n",
        "\n",
        "You will see a window like this.\n",
        "<img src=\"https://raw.githubusercontent.com/christinium/JapanRegEx/316caa5e0f10011b5483c299ec417ed78bf563b0/images/regex101_demo.png\" alt=\"Demo\" style=\"width:700px;\"/>\n",
        "\n",
        "<br><br>\n",
        "### Example 1:\n",
        "1) In the **Test String**  box, please paste the following:\n",
        "\n",
        "```\n",
        "Lisinopril 40 MG PO Daily\n",
        "LISINOPRIL 20 MG PO DAILY\n",
        "lisinoprl 10 mg PO Daily\n",
        "The patient is allergic to lisinopril.\n",
        "April showers bring may flowers.\n",
        "metoprolol XL 100 mg PO Daily\n",
        "```\n",
        "\n",
        "2) In the **Regular Expression** box, please try out each one of these patterns and observe the difference in items that are highlighted.\n",
        "\n",
        "Pattern | Meaning\n",
        "--------|--------\n",
        ". |\tA period catches all characters (each one is a different color)\n",
        "pril |\tthis only catches the phrase pril\n",
        ".\\*pril |\tthis catches 0 or more characters before pril\n",
        "[a-z] |\tthis catches all alphabetical characters\n",
        "[abcdefghijklmnopqrstuvwxyz] | this also catches all alphabetical characters\n",
        "[abcde]|this catches just a, b, c, d, or e\n",
        "[a-z]\\*pril |\tthis catches 0 or more characters, <br> lower case, but does not match spaces or numbers etc\n",
        "[aA-zZ]+pril| this catches words with one or more character prior to ending in pril\n",
        "[aA-zZ]{2,} | pril\tthis catches words with 2 or more characters prir to ending in pril\n",
        "lisinopril&#124;losartan |\tthis catches lisinopril or losartan\n",
        "\\d\t| this catches numerical digits\n",
        "\\d{2} |\tthis catches two numberical digits\n",
        "\n",
        "<br><br>\n"
      ]
    },
    {
      "metadata": {
        "id": "mubH_GJBVHdo",
        "colab_type": "text"
      },
      "cell_type": "markdown",
      "source": [
        "### Exercise 1: \n",
        "1) In the Test String box, please paste the following:\n",
        "```\n",
        "Metoprolol 10 mg PO daily\n",
        "Omeprazole 10 mg PO BID\n",
        "Lasix 10 mg PO BID\n",
        "Carvedilol 3.125 mg PO BID\n",
        "Amlodipine 10 mg PO Daily\n",
        "Labetalol 100 mg PO TID\n",
        "```\n",
        "\n",
        "2) What would you type in the **Regular Expression** box to find:<br>\n",
        "a) How do you write an expression to just pull out the betablockers, a type of medication that can decrease the heart rate and blood pressure (they end in lol)<br>\n",
        "b) You want to help someone figure out drugs that need to be dosed twice daily (or BID) for dosing purposes. How do you print out only lines that or twice a day (BID)?  \n",
        "c) How do you print lines that are more than once a day (including both BID and TID, which is three times daily)?\n",
        "\n",
        "_\\*\\*Answers on the Bottom_\n"
      ]
    },
    {
      "metadata": {
        "id": "kgGFVdVtZT7-",
        "colab_type": "text"
      },
      "cell_type": "markdown",
      "source": [
        "## B.1 Regular Expressions using MIMIC Clinical Notes!\n",
        "In this section, we will use a python (yay!) notebook to use use regular expressions on real clinical notes from MIMIC-III.  There are over 2 million (!) free text notes in here, so there is a ton of data to be used!<br><br>\n",
        "We will now go through each python code block.<br>\n",
        "To run a block select it and press **shift** + **enter**\n"
      ]
    },
    {
      "metadata": {
        "id": "CybKUGa8y-IE",
        "colab_type": "text"
      },
      "cell_type": "markdown",
      "source": [
        "**Import Libraries**:\n",
        "The cell below imports the necessaary libraries so that our python notebook can talk to the MIMIC database using Google's bigquery library and pull the notes from the database."
      ]
    },
    {
      "metadata": {
        "id": "IR0nQQOxULq9",
        "colab_type": "code",
        "colab": {}
      },
      "cell_type": "code",
      "source": [
        "import os\n",
        "import pandas as pd\n",
        "\n",
        "from google.colab import auth\n",
        "from google.cloud import bigquery\n",
        "from google.colab import files"
      ],
      "execution_count": 0,
      "outputs": []
    },
    {
      "metadata": {
        "id": "LpazuyM0UkJY",
        "colab_type": "text"
      },
      "cell_type": "markdown",
      "source": [
        "**Authenticate:** The line of code below ensures you are an authenticated user accessing the MIMIC database. You will need to rerun this each time you open the notebook."
      ]
    },
    {
      "metadata": {
        "id": "woVFB6X7J0cn",
        "colab_type": "code",
        "colab": {}
      },
      "cell_type": "code",
      "source": [
        "auth.authenticate_user() #This will allow you to authenticate access to BigQuery"
      ],
      "execution_count": 0,
      "outputs": []
    },
    {
      "metadata": {
        "id": "tp3E1gCKUxA2",
        "colab_type": "text"
      },
      "cell_type": "markdown",
      "source": [
        "**Query Function:** This is a method that executes a desired SQL query on the database.  If you want to run a query, you can use the function name below, which we named  *run_query()*"
      ]
    },
    {
      "metadata": {
        "id": "fyWuYHqMIjxE",
        "colab_type": "code",
        "colab": {}
      },
      "cell_type": "code",
      "source": [
        "project_id='hst-953-2018'\n",
        "os.environ[\"GOOGLE_CLOUD_PROJECT\"]=project_id\n",
        "# Read data from BigQuery into pandas dataframes.\n",
        "def run_query(query):\n",
        "  return pd.io.gbq.read_gbq(query, project_id=project_id, verbose=False, configuration={'query':{'useLegacySql': False}})"
      ],
      "execution_count": 0,
      "outputs": []
    },
    {
      "metadata": {
        "id": "NGDh5BToVSbp",
        "colab_type": "text"
      },
      "cell_type": "markdown",
      "source": [
        "**Actual Query:** This is the actual SQL query. Notes are contained in the NOTEEVENTS table. This table has ###  ?elements/columns (\\*fill in columns).  The column with the actual text of the report is  the TEXT column. Here, we extracting  the TEXT column from the first ten rows of the NOTEEVENTS table.  <br><br>\n",
        "\n",
        "(* Side note, if you want to run this in bigquery, you can also go to https://bigquery.cloud.google.com, click \"Try the new UI\" on the top right, and paste the text between the quotes into the \"Query Editor\" )"
      ]
    },
    {
      "metadata": {
        "id": "R5y8n88sI2IQ",
        "colab_type": "code",
        "colab": {
          "base_uri": "https://localhost:8080/",
          "height": 236
        },
        "outputId": "391f9e4e-c9d1-4e64-af2f-9b7408a84656"
      },
      "cell_type": "code",
      "source": [
        "first_ten_echo_reports = run_query('''\n",
        "SELECT TEXT \n",
        "FROM `physionet-data.mimiciii_notes.noteevents`\n",
        "WHERE CATEGORY = 'Echo'\n",
        "LIMIT 10\n",
        "''')"
      ],
      "execution_count": 3,
      "outputs": [
        {
          "output_type": "error",
          "ename": "NameError",
          "evalue": "ignored",
          "traceback": [
            "\u001b[0;31m---------------------------------------------------------------------------\u001b[0m",
            "\u001b[0;31mNameError\u001b[0m                                 Traceback (most recent call last)",
            "\u001b[0;32m<ipython-input-3-5876754e101c>\u001b[0m in \u001b[0;36m<module>\u001b[0;34m()\u001b[0m\n\u001b[0;32m----> 1\u001b[0;31m first_ten_echo_reports = run_query('''\n\u001b[0m\u001b[1;32m      2\u001b[0m \u001b[0mSELECT\u001b[0m \u001b[0mTEXT\u001b[0m\u001b[0;34m\u001b[0m\u001b[0m\n\u001b[1;32m      3\u001b[0m \u001b[0mFROM\u001b[0m\u001b[0;31m \u001b[0m\u001b[0;31m`\u001b[0m\u001b[0mphysionet\u001b[0m\u001b[0;34m-\u001b[0m\u001b[0mdata\u001b[0m\u001b[0;34m.\u001b[0m\u001b[0mmimiciii_notes\u001b[0m\u001b[0;34m.\u001b[0m\u001b[0mnoteevents\u001b[0m\u001b[0;31m`\u001b[0m\u001b[0;34m\u001b[0m\u001b[0m\n\u001b[1;32m      4\u001b[0m \u001b[0mWHERE\u001b[0m \u001b[0mCATEGORY\u001b[0m \u001b[0;34m=\u001b[0m \u001b[0;34m'Echo'\u001b[0m\u001b[0;34m\u001b[0m\u001b[0m\n\u001b[1;32m      5\u001b[0m \u001b[0mLIMIT\u001b[0m \u001b[0;36m10\u001b[0m\u001b[0;34m\u001b[0m\u001b[0m\n",
            "\u001b[0;31mNameError\u001b[0m: name 'run_query' is not defined"
          ]
        }
      ]
    },
    {
      "metadata": {
        "id": "EIck0_f3VvYY",
        "colab_type": "text"
      },
      "cell_type": "markdown",
      "source": [
        "Let us examine the result of our query."
      ]
    },
    {
      "metadata": {
        "id": "0neinsdwI-FQ",
        "colab_type": "code",
        "colab": {}
      },
      "cell_type": "code",
      "source": [
        "print(first_ten_echo_reports[\"TEXT\"])"
      ],
      "execution_count": 0,
      "outputs": []
    },
    {
      "metadata": {
        "id": "R_fUQZkwVzL4",
        "colab_type": "text"
      },
      "cell_type": "markdown",
      "source": [
        "Let us dig deeper and view the full content of the first report"
      ]
    },
    {
      "metadata": {
        "id": "TqaXivbLKPa_",
        "colab_type": "code",
        "colab": {}
      },
      "cell_type": "code",
      "source": [
        "report = first_ten_echo_reports[\"TEXT\"][0]\n",
        "print(report)"
      ],
      "execution_count": 0,
      "outputs": []
    },
    {
      "metadata": {
        "id": "HRd_CVNIWFk_",
        "colab_type": "text"
      },
      "cell_type": "markdown",
      "source": [
        "We are going to extract the heart rate from this note using regular expressions a powerful tool that allows us to do simple text analytics.\n",
        "Christina to add regex101 example here from her [notebook](https://github.com/christinium/JapanRegEx/blob/master/1.1%20-%20RegEx%20-%20Regular%20Expressions.ipynb)"
      ]
    },
    {
      "metadata": {
        "id": "ZfuBa5zmWxyq",
        "colab_type": "text"
      },
      "cell_type": "markdown",
      "source": [
        "To use regular expressions in python we import the library "
      ]
    },
    {
      "metadata": {
        "id": "BD4XxiTJKLjt",
        "colab_type": "code",
        "colab": {}
      },
      "cell_type": "code",
      "source": [
        "import re"
      ],
      "execution_count": 0,
      "outputs": []
    },
    {
      "metadata": {
        "id": "6JPvo38lW6br",
        "colab_type": "text"
      },
      "cell_type": "markdown",
      "source": [
        "Let us see how we can extract the line containing heart rate from the report"
      ]
    },
    {
      "metadata": {
        "id": "b6_7iDmqLvoq",
        "colab_type": "code",
        "colab": {}
      },
      "cell_type": "code",
      "source": [
        "regular_expression_query = r'HR.*'\n",
        "hit = re.search(regular_expression_query,report)\n",
        "if hit:\n",
        "  print(hit.group())\n",
        "else:\n",
        "  print('No hit for the regular expression')"
      ],
      "execution_count": 0,
      "outputs": []
    },
    {
      "metadata": {
        "id": "97-MalZMXGpw",
        "colab_type": "text"
      },
      "cell_type": "markdown",
      "source": [
        "This is great. But we want to extract the value (85) from this line. Let us see how we can extract two digit numbers from the report"
      ]
    },
    {
      "metadata": {
        "id": "zklIpC25RtMb",
        "colab_type": "code",
        "colab": {}
      },
      "cell_type": "code",
      "source": [
        "regular_expression_query = r'\\d\\d'\n",
        "hit = re.search(regular_expression_query,report)\n",
        "if hit:\n",
        "  print(hit.group())\n",
        "else:\n",
        "  print('No hit for the regular expression')"
      ],
      "execution_count": 0,
      "outputs": []
    },
    {
      "metadata": {
        "id": "NAwzEPaJXd4t",
        "colab_type": "text"
      },
      "cell_type": "markdown",
      "source": [
        "Regular expressions are **greedy**. This means they match the first occurrence in the input text. Therefore, we see that we get the height using our current regular expression. Let us modify the regular expression so that we get the first two digit number following the occurence of **HR** in the report."
      ]
    },
    {
      "metadata": {
        "id": "sqSU0tvGSPdO",
        "colab_type": "code",
        "colab": {}
      },
      "cell_type": "code",
      "source": [
        "regular_expression_query = r'(HR).*(\\d\\d)'\n",
        "hit = re.search(regular_expression_query,report)\n",
        "if hit:\n",
        "  print(hit.group(0))\n",
        "  print(hit.group(1))\n",
        "  print(hit.group(2))\n",
        "else:\n",
        "  print('No hit for the regular expression')"
      ],
      "execution_count": 0,
      "outputs": []
    },
    {
      "metadata": {
        "id": "J5LUkH_MYL17",
        "colab_type": "text"
      },
      "cell_type": "markdown",
      "source": [
        "Great! This is exactly what we wanted. Now let us try to run our regular expression on each of the first ten reports and print the result."
      ]
    },
    {
      "metadata": {
        "id": "AwfEpn5VTBX8",
        "colab_type": "code",
        "colab": {}
      },
      "cell_type": "code",
      "source": [
        "for i in range(10):\n",
        "  report = first_ten_echo_reports[\"TEXT\"][i]\n",
        "  regular_expression_query = r'(HR).*(\\d\\d)'\n",
        "  hit = re.search(regular_expression_query,report)\n",
        "  if hit:    \n",
        "    print('{} :: {}'.format(i,hit.group(2)))\n",
        "  else:\n",
        "    print('{} :: No hit for the regular expression')\n",
        "  "
      ],
      "execution_count": 0,
      "outputs": []
    },
    {
      "metadata": {
        "id": "g8twKiJbYfNN",
        "colab_type": "text"
      },
      "cell_type": "markdown",
      "source": [
        "We do not get any hits for reports 2, and 6. Let us check report 2 why this is the case"
      ]
    },
    {
      "metadata": {
        "id": "FEibHL4WTwma",
        "colab_type": "code",
        "colab": {}
      },
      "cell_type": "code",
      "source": [
        "print(first_ten_echo_reports[\"TEXT\"][2])"
      ],
      "execution_count": 0,
      "outputs": []
    },
    {
      "metadata": {
        "id": "gPheQMFgY-fH",
        "colab_type": "text"
      },
      "cell_type": "markdown",
      "source": [
        "###Answers to Exercises:\n",
        "\n"
      ]
    },
    {
      "metadata": {
        "id": "A37jvcd4YFAS",
        "colab_type": "text"
      },
      "cell_type": "markdown",
      "source": [
        "**Exercise 1: Can you modify the notebook to print the height of the patient mentioned in the first ten echo reports?**<br>\n",
        "a) How do you write an expression to just pull out the betablockers, a type of medication that can decrease the heart rate and blood pressure (they end in lol)<br>\n",
        "```\n",
        "[aA-zZ].*lol\n",
        "```\n",
        "b) You want to help someone figure out drugs that need to be dosed twice daily (or BID) for dosing purposes. How do you print out only lines that or twice a day (BID)?  \n",
        "```\n",
        ".*[BID]\n",
        "```\n",
        "c) How do you print lines that are more than once a day (including both BID and TID, which is three times daily)?\n",
        "```\n",
        ".*BID|.*TID\n",
        "```\n"
      ]
    }
  ]
}